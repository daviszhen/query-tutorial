{
 "cells": [
  {
   "cell_type": "code",
   "execution_count": 2,
   "metadata": {
    "collapsed": true,
    "pycharm": {
     "name": "#%%\n"
    }
   },
   "outputs": [],
   "source": [
    "import pyarrow as pa"
   ]
  },
  {
   "cell_type": "code",
   "execution_count": 4,
   "outputs": [],
   "source": [
    "days = pa.array([1, 12, 17, 23, 28], type=pa.int8())\n",
    "months = pa.array([1, 3, 5, 7, 1], type=pa.int8())\n",
    "years = pa.array([1990, 2000, 1995, 2000, 1995], type=pa.int16())\n",
    "\n",
    "birthdays_table = pa.table([days, months, years],\n",
    "                           names=[\"days\", \"months\", \"years\"])"
   ],
   "metadata": {
    "collapsed": false,
    "pycharm": {
     "name": "#%%\n"
    }
   }
  },
  {
   "cell_type": "code",
   "execution_count": 6,
   "outputs": [
    {
     "data": {
      "text/plain": "pyarrow.Table\ndays: int8\nmonths: int8\nyears: int16\n----\ndays: [[1,12,17,23,28]]\nmonths: [[1,3,5,7,1]]\nyears: [[1990,2000,1995,2000,1995]]"
     },
     "execution_count": 6,
     "metadata": {},
     "output_type": "execute_result"
    }
   ],
   "source": [
    "birthdays_table"
   ],
   "metadata": {
    "collapsed": false,
    "pycharm": {
     "name": "#%%\n"
    }
   }
  },
  {
   "cell_type": "code",
   "execution_count": 7,
   "outputs": [],
   "source": [
    "import pyarrow.parquet as pq\n",
    "pq.write_table(birthdays_table,'birthdays.parquet')"
   ],
   "metadata": {
    "collapsed": false,
    "pycharm": {
     "name": "#%%\n"
    }
   }
  },
  {
   "cell_type": "code",
   "execution_count": 9,
   "outputs": [],
   "source": [
    "reloaded_birthdays = pq.read_table('birthdays.parquet')"
   ],
   "metadata": {
    "collapsed": false,
    "pycharm": {
     "name": "#%%\n"
    }
   }
  },
  {
   "cell_type": "code",
   "execution_count": 10,
   "outputs": [
    {
     "data": {
      "text/plain": "pyarrow.Table\ndays: int8\nmonths: int8\nyears: int16\n----\ndays: [[1,12,17,23,28]]\nmonths: [[1,3,5,7,1]]\nyears: [[1990,2000,1995,2000,1995]]"
     },
     "execution_count": 10,
     "metadata": {},
     "output_type": "execute_result"
    }
   ],
   "source": [
    "reloaded_birthdays"
   ],
   "metadata": {
    "collapsed": false,
    "pycharm": {
     "name": "#%%\n"
    }
   }
  },
  {
   "cell_type": "code",
   "execution_count": 11,
   "outputs": [],
   "source": [
    "import pyarrow.compute as pc"
   ],
   "metadata": {
    "collapsed": false,
    "pycharm": {
     "name": "#%%\n"
    }
   }
  },
  {
   "cell_type": "code",
   "execution_count": 12,
   "outputs": [
    {
     "data": {
      "text/plain": "<pyarrow.lib.StructArray object at 0x10f52ed00>\n-- is_valid: all not null\n-- child 0 type: int16\n  [\n    1990,\n    2000,\n    1995\n  ]\n-- child 1 type: int64\n  [\n    1,\n    2,\n    2\n  ]"
     },
     "execution_count": 12,
     "metadata": {},
     "output_type": "execute_result"
    }
   ],
   "source": [
    "pc.value_counts(birthdays_table[\"years\"])"
   ],
   "metadata": {
    "collapsed": false,
    "pycharm": {
     "name": "#%%\n"
    }
   }
  },
  {
   "cell_type": "code",
   "execution_count": 13,
   "outputs": [],
   "source": [
    "import pyarrow.dataset as ds\n",
    "\n",
    "ds.write_dataset(birthdays_table, \"savedir\", format=\"parquet\",\n",
    "                 partitioning=ds.partitioning(\n",
    "                    pa.schema([birthdays_table.schema.field(\"years\")])\n",
    "                ))"
   ],
   "metadata": {
    "collapsed": false,
    "pycharm": {
     "name": "#%%\n"
    }
   }
  },
  {
   "cell_type": "code",
   "execution_count": 14,
   "outputs": [],
   "source": [
    "birthdays_dataset = ds.dataset(\"savedir\", format=\"parquet\", partitioning=[\"years\"])"
   ],
   "metadata": {
    "collapsed": false,
    "pycharm": {
     "name": "#%%\n"
    }
   }
  },
  {
   "cell_type": "code",
   "execution_count": 16,
   "outputs": [
    {
     "data": {
      "text/plain": "['savedir/1990/part-0.parquet',\n 'savedir/1995/part-0.parquet',\n 'savedir/2000/part-0.parquet']"
     },
     "execution_count": 16,
     "metadata": {},
     "output_type": "execute_result"
    }
   ],
   "source": [
    "birthdays_dataset.files"
   ],
   "metadata": {
    "collapsed": false,
    "pycharm": {
     "name": "#%%\n"
    }
   }
  },
  {
   "cell_type": "code",
   "execution_count": 18,
   "outputs": [
    {
     "name": "stdout",
     "output_type": "stream",
     "text": [
      "AGES [\n",
      "  33\n",
      "]\n",
      "AGES [\n",
      "  28,\n",
      "  28\n",
      "]\n",
      "AGES [\n",
      "  23,\n",
      "  23\n",
      "]\n"
     ]
    }
   ],
   "source": [
    "import datetime\n",
    "current_year = datetime.datetime.utcnow().year\n",
    "for table_chunk in birthdays_dataset.to_batches():\n",
    "    print(\"AGES\", pc.subtract(current_year, table_chunk[\"years\"]))"
   ],
   "metadata": {
    "collapsed": false,
    "pycharm": {
     "name": "#%%\n"
    }
   }
  },
  {
   "cell_type": "code",
   "execution_count": null,
   "outputs": [],
   "source": [],
   "metadata": {
    "collapsed": false,
    "pycharm": {
     "name": "#%%\n"
    }
   }
  }
 ],
 "metadata": {
  "kernelspec": {
   "display_name": "Python 3",
   "language": "python",
   "name": "python3"
  },
  "language_info": {
   "codemirror_mode": {
    "name": "ipython",
    "version": 2
   },
   "file_extension": ".py",
   "mimetype": "text/x-python",
   "name": "python",
   "nbconvert_exporter": "python",
   "pygments_lexer": "ipython2",
   "version": "2.7.6"
  }
 },
 "nbformat": 4,
 "nbformat_minor": 0
}