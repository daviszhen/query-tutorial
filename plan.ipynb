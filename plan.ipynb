{
 "cells": [
  {
   "cell_type": "markdown",
   "source": [
    "# 摘要\n",
    "\n",
    "本文旨在以最快的coding速度跑通tpch q1并得到正确的结果。\n",
    "\n",
    "因此做了简化。\n",
    "\n",
    "1，极简的逻辑plan结构。\n",
    "以python的dict，list，tuple的嵌套组合作为plan的基础数据结构。\n",
    "以直观的方式认识plan。tpch q1中不需要的内容都没有。\n",
    "**tpch q1 的plan结构见下文[main]->[查看tpch q1逻辑计划]**\n",
    "\n",
    "2，复用开源parser和向量化火山执行模型。\n",
    "parser用的[pglast](https://pglast.readthedocs.io/en/v5/index.html)。向量化执行器用的[pyarrow](https://arrow.apache.org/docs/python/api.html)（apache arrow)。\n",
    "\n",
    "3，手工转化逻辑plan到物理执行器。\n",
    "\n",
    "4，不支持tpch q1中没有的语义检查、运算符、函数和子句。\n",
    "例如，表达式、别名、函数嵌套、数据类型的语义检查部分。\n",
    "\n",
    "5，不追求执行速度。没有优化器规则。没做性能和内存优化。\n",
    "\n",
    "6，代码量少。\n",
    "\n",
    "某些限制会逐步在后期迭代中去掉。"
   ],
   "metadata": {
    "collapsed": false
   }
  },
  {
   "cell_type": "markdown",
   "source": [
    "# 用法"
   ],
   "metadata": {
    "collapsed": false
   }
  },
  {
   "cell_type": "markdown",
   "source": [
    "jetbrains 中DataSpell、PyCharm直接打开本文。按提示安装环境即可。\n",
    "\n",
    "或者自行安装jupyter notebook。或者其它能支持的IDE。\n",
    "\n",
    "注意：本文用的python 3.9.6。"
   ],
   "metadata": {
    "collapsed": false
   }
  },
  {
   "cell_type": "markdown",
   "source": [
    "# import"
   ],
   "metadata": {
    "collapsed": false
   }
  },
  {
   "cell_type": "code",
   "execution_count": 494,
   "outputs": [],
   "source": [
    "from pglast import ast,parser,visitors,printers,enums\n",
    "from pprint import pprint\n",
    "import pyarrow as arrow\n",
    "from pyarrow import csv,compute,types\n",
    "import pandas\n",
    "from datetime import datetime,timedelta,date\n",
    "import hashlib"
   ],
   "metadata": {
    "collapsed": false
   }
  },
  {
   "cell_type": "markdown",
   "source": [
    "# 设置数据源"
   ],
   "metadata": {
    "collapsed": false
   }
  },
  {
   "cell_type": "markdown",
   "source": [
    "## 设置lineitem的数据源"
   ],
   "metadata": {
    "collapsed": false
   }
  },
  {
   "cell_type": "code",
   "execution_count": 495,
   "outputs": [],
   "source": [
    "lineitem_path = \"../mo-test/tpch100M/lineitem.tbl\"\n",
    "lineitem_delimiter = \"|\""
   ],
   "metadata": {
    "collapsed": false
   }
  },
  {
   "cell_type": "markdown",
   "source": [],
   "metadata": {
    "collapsed": false
   }
  },
  {
   "cell_type": "markdown",
   "source": [
    "# 初始化表lineitem的schema"
   ],
   "metadata": {
    "collapsed": false
   }
  },
  {
   "cell_type": "code",
   "execution_count": 496,
   "outputs": [],
   "source": [
    "# create table lineitem ( l_orderkey    bigint not null,\n",
    "#                              l_partkey     integer not null,\n",
    "#                              l_suppkey     integer not null,\n",
    "#                              l_linenumber  integer not null,\n",
    "#                              l_quantity    double not null,\n",
    "#                              l_extendedprice  double not null,\n",
    "#                              l_discount    double not null,\n",
    "#                              l_tax         double not null,\n",
    "#                              l_returnflag  varchar(1) not null,\n",
    "#                              l_linestatus  varchar(1) not null,\n",
    "#                              l_shipdate    date not null,\n",
    "#                              l_commitdate  date not null,\n",
    "#                              l_receiptdate date not null,\n",
    "#                              l_shipinstruct varchar(25) /*char(25)*/ not null,\n",
    "#                              l_shipmode     varchar(10) /*char(10)*/ not null,\n",
    "#                              l_comment      varchar(44) not null,\n",
    "#                          primary key (l_orderkey, l_linenumber)\n",
    "#                         );"
   ],
   "metadata": {
    "collapsed": false
   }
  },
  {
   "cell_type": "code",
   "execution_count": 497,
   "outputs": [],
   "source": [
    "lineitemSchema = arrow.schema([\n",
    "    arrow.field(\"l_orderkey\",arrow.int64(),False),\n",
    "    arrow.field(\"l_partkey\",arrow.int32(),False),\n",
    "    arrow.field(\"l_suppkey\",arrow.int32(),False),\n",
    "    arrow.field(\"l_linenumber\",arrow.int32(),False),\n",
    "    arrow.field(\"l_quantity\",arrow.float64(),False),\n",
    "    arrow.field(\"l_extendedprice\",arrow.float64(),False),\n",
    "    arrow.field(\"l_discount\",arrow.float64(),False),\n",
    "    arrow.field(\"l_tax\",arrow.float64(),False),\n",
    "    arrow.field(\"l_returnflag\",arrow.utf8(),False),\n",
    "    arrow.field(\"l_linestatus\",arrow.utf8(),False),\n",
    "    arrow.field(\"l_shipdate\",arrow.date32(),False),\n",
    "    arrow.field(\"l_commitdate\",arrow.date32(),False),\n",
    "    arrow.field(\"l_receiptdate\",arrow.date32(),False),\n",
    "    arrow.field(\"l_shipinstruct\",arrow.utf8(),False),\n",
    "    arrow.field(\"l_shipmode\",arrow.utf8(),False),\n",
    "    arrow.field(\"l_comment\",arrow.utf8(),False),\n",
    "],{\"name\":\"lineitem\",\n",
    "   \"delimiter\":lineitem_delimiter,\n",
    "   \"path\":lineitem_path})\n",
    "# lineitemSchema"
   ],
   "metadata": {
    "collapsed": false
   }
  },
  {
   "cell_type": "markdown",
   "source": [
    "# 定义常量"
   ],
   "metadata": {
    "collapsed": false
   }
  },
  {
   "cell_type": "code",
   "execution_count": 498,
   "outputs": [],
   "source": [
    "\n",
    "# logical plan 标签\n",
    "RELATIONS = \"relations\"\n",
    "SINGLE_RELATION = \"singleRelation\"\n",
    "MULTI_RELATION = \"multipleRelation\"\n",
    "WHERE = \"where\"\n",
    "OUTPUT = \"output\"\n",
    "GROUP = \"group\"\n",
    "ORDER = \"order\"\n",
    "AGGREGATE = \"aggregate\"\n",
    "PROJECT = \"project\"\n",
    "\n",
    "# table def 字段索引\n",
    "RELATION_TYPE_IDX = 0\n",
    "DB_NAME_IDX = 1\n",
    "ALIAS_IDX = 2\n",
    "TABLE_NAME_IDX = 3\n",
    "SCHEMA_IDX = 4\n",
    "\n",
    "# 关系类型\n",
    "RELATION_TYPE_TABLE = \"table\"\n",
    "RELATION_TYPE_VIEW = \"view\"\n",
    "RELATION_TYPE_SUBQUERY = \"subquery\"\n",
    "\n",
    "# 表达式类型\n",
    "EXPR_OP_COLUMN_REF = \"colRef\"\n",
    "EXPR_OP_LESS_EQUAL = \"<=\"\n",
    "EXPR_OP_PLUS = \"+\"\n",
    "EXPR_OP_MINUS = \"-\"\n",
    "EXPR_OP_MULTI = \"*\"\n",
    "EXPR_OP_CAST = \"cast\"\n",
    "EXPR_OP_CONST = \"const\"\n",
    "\n",
    "FUNC_EXPR = \"func\"\n",
    "FUNC_RESULT_REF_EXPR = \"func_result_ref\"\n",
    "OUTPUT_EXPR = \"output_expr\"\n",
    "GROUP_EXPR = \"group_expr\"\n",
    "ORDER_EXPR = \"order_expr\"\n",
    "PROJECT_EXPR = \"project_expr\""
   ],
   "metadata": {
    "collapsed": false
   }
  },
  {
   "cell_type": "markdown",
   "source": [
    "# 初始化Catalog"
   ],
   "metadata": {
    "collapsed": false
   }
  },
  {
   "cell_type": "code",
   "execution_count": 499,
   "outputs": [
    {
     "data": {
      "text/plain": "{'tpch': {'lineitem': l_orderkey: int64 not null\n  l_partkey: int32 not null\n  l_suppkey: int32 not null\n  l_linenumber: int32 not null\n  l_quantity: double not null\n  l_extendedprice: double not null\n  l_discount: double not null\n  l_tax: double not null\n  l_returnflag: string not null\n  l_linestatus: string not null\n  l_shipdate: date32[day] not null\n  l_commitdate: date32[day] not null\n  l_receiptdate: date32[day] not null\n  l_shipinstruct: string not null\n  l_shipmode: string not null\n  l_comment: string not null\n  -- schema metadata --\n  name: 'lineitem'\n  delimiter: '|'\n  path: '../mo-test/tpch100M/lineitem.tbl'}}"
     },
     "execution_count": 499,
     "metadata": {},
     "output_type": "execute_result"
    }
   ],
   "source": [
    "Catalog = {\n",
    "    \"tpch\":{\n",
    "        \"lineitem\":lineitemSchema\n",
    "    }\n",
    "}\n",
    "\n",
    "def isValidName(s):\n",
    "    return not (s is None or len(s) == 0)\n",
    "\n",
    "\n",
    "def getColumn(plan,dbName,tableName,colName):\n",
    "    \"\"\"取列定义\"\"\"\n",
    "    relations = plan.get(RELATIONS,None)\n",
    "    if relations is None:\n",
    "        raise Exception(\"no table defs\")\n",
    "\n",
    "    if len(dbName) == 0:\n",
    "        dbName = \"tpch\"\n",
    "\n",
    "    if relations[0] == SINGLE_RELATION:\n",
    "        single = relations[1]\n",
    "        if len(tableName) == 0:\n",
    "            #在每个表中找字段\n",
    "            for tableName2,tableDef in single.items():\n",
    "                schema = tableDef[SCHEMA_IDX]\n",
    "                colDef = schema.field(colName)\n",
    "                if colDef is not None:\n",
    "                    return colDef,dbName,tableName2\n",
    "            raise Exception(f\"no column name {colName} in table {tableName}\")\n",
    "\n",
    "        #找到表定义\n",
    "        if tableName in single:\n",
    "            tableDef = single[tableName]\n",
    "            if tableDef[DB_NAME_IDX] == dbName and tableDef[ALIAS_IDX] == tableName:\n",
    "                schema = tableDef[SCHEMA_IDX]\n",
    "                colDef = schema.field(colName)\n",
    "                if colDef is not None:\n",
    "                    return colDef,dbName,tableName\n",
    "                else:\n",
    "                    raise Exception(f\"no column name {colName} in table {tableName}\")\n",
    "            else:\n",
    "                raise Exception(f\"invalid database name {dbName} or table name {tableName}\")\n",
    "        else:\n",
    "            raise Exception(f\"no such relation {tableName} in database {dbName}\")\n",
    "    else:\n",
    "        raise Exception(\"not implement multiple relations\")\n",
    "\n",
    "\n",
    "Catalog"
   ],
   "metadata": {
    "collapsed": false
   }
  },
  {
   "cell_type": "markdown",
   "source": [
    "# 取tpch q1 ast"
   ],
   "metadata": {
    "collapsed": false
   }
  },
  {
   "cell_type": "code",
   "execution_count": 500,
   "outputs": [],
   "source": [
    "q1Stmt = parser.parse_sql(\n",
    "    \"select \\\n",
    "        l_returnflag, \\\n",
    "        l_linestatus, \\\n",
    "        sum(l_quantity) as sum_qty, \\\n",
    "        sum(l_extendedprice) as sum_base_price, \\\n",
    "        sum(l_extendedprice * (1 - l_discount)) as sum_disc_price, \\\n",
    "        sum(l_extendedprice * (1 - l_discount) * (1 + l_tax)) as sum_charge, \\\n",
    "        avg(l_quantity) as avg_qty, \\\n",
    "        avg(l_extendedprice) as avg_price, \\\n",
    "        avg(l_discount) as avg_disc, \\\n",
    "        count(*) as count_order \\\n",
    "    from \\\n",
    "        lineitem \\\n",
    "    where \\\n",
    "        l_shipdate <= date '1998-12-01' - interval '112' day \\\n",
    "    group by \\\n",
    "        l_returnflag, \\\n",
    "        l_linestatus \\\n",
    "    order by \\\n",
    "        l_returnflag, \\\n",
    "        l_linestatus;\"\n",
    ")[0]"
   ],
   "metadata": {
    "collapsed": false
   }
  },
  {
   "cell_type": "code",
   "execution_count": 501,
   "outputs": [],
   "source": [
    "#q1Stmt"
   ],
   "metadata": {
    "collapsed": false
   }
  },
  {
   "cell_type": "markdown",
   "source": [
    "# 构建tpch q1的逻辑查询计划"
   ],
   "metadata": {
    "collapsed": false
   }
  },
  {
   "cell_type": "markdown",
   "source": [
    "## 逻辑查询计划builder\n",
    "\n",
    "从SELECT语句构建逻辑查询计划\n",
    "\n",
    "逻辑查询计划plan定义为字典类型。内部是嵌套的list,dict,tuple等。plan内部用可读的字符串表达信息。\n",
    "tpch q1 的plan结构见下文[main]->[查看tpch q1逻辑计划]。"
   ],
   "metadata": {
    "collapsed": false
   }
  },
  {
   "cell_type": "code",
   "execution_count": 502,
   "outputs": [],
   "source": [
    "# plan构造器\n",
    "class LogicalPlanBuilder:\n",
    "    def __init__(self):\n",
    "        pass\n",
    "\n",
    "    def build(self,node,plan : dict):\n",
    "        \"\"\"\n",
    "        构建逻辑plan\n",
    "        :param node: 节点ast\n",
    "        :param plan: 逻辑计划\n",
    "        :return:\n",
    "        \"\"\"\n",
    "        pass"
   ],
   "metadata": {
    "collapsed": false
   }
  },
  {
   "cell_type": "markdown",
   "source": [
    "## select语句builder\n",
    "\n",
    "为select语句生成逻辑查询计划。"
   ],
   "metadata": {
    "collapsed": false
   }
  },
  {
   "cell_type": "code",
   "execution_count": 503,
   "outputs": [],
   "source": [
    "# SELECT语句构造器。目前只支持tpch q1\n",
    "class SelectBuilder(LogicalPlanBuilder):\n",
    "    def __init__(self):\n",
    "        super().__init__()\n",
    "\n",
    "    def build(self,select : ast.SelectStmt,plan : dict):\n",
    "        fb = FromBuilder()\n",
    "        fb.build(select.fromClause,plan)\n",
    "\n",
    "        wb = WhereBuilder()\n",
    "        wb.build(select.whereClause,plan)\n",
    "\n",
    "        selectList = SelectListBuilder()\n",
    "        selectList.build(select.targetList,plan)\n",
    "\n",
    "        groupby = GroupbyBuilder()\n",
    "        groupby.build(select.groupClause,plan)\n",
    "\n",
    "        orderby = OrderbyBuilder()\n",
    "        orderby.build(select.sortClause,plan)\n",
    "\n",
    "        project =  ProjectListBuilder()\n",
    "        project.build(select.targetList,plan)\n",
    "\n",
    "        pass"
   ],
   "metadata": {
    "collapsed": false
   }
  },
  {
   "cell_type": "markdown",
   "source": [
    "## from子句builder\n",
    "\n",
    "从from子句中提取各个关系表。"
   ],
   "metadata": {
    "collapsed": false
   }
  },
  {
   "cell_type": "code",
   "execution_count": 504,
   "outputs": [],
   "source": [
    "class FromBuilder(LogicalPlanBuilder):\n",
    "    def __init__(self):\n",
    "        super().__init__()\n",
    "    def build(self,tableRefs : tuple,plan : dict):\n",
    "        if len(tableRefs) == 1:\n",
    "            single = self.buildTableRef(tableRefs[0])\n",
    "            plan[RELATIONS] = [SINGLE_RELATION,single]\n",
    "            return\n",
    "        raise Exception(\"unsupport multiple table refs\")\n",
    "        pass\n",
    "\n",
    "    def buildTableRef(self,tableRef : ast.RangeVar)-> dict:\n",
    "        dbName = tableRef.schemaname\n",
    "        if dbName is None or len(dbName) == 0:\n",
    "            dbName = \"tpch\"\n",
    "\n",
    "        # 从catalog中取表定义\n",
    "        if tableRef.relname in Catalog[dbName] :\n",
    "            return {tableRef.relname :\n",
    "                    [RELATION_TYPE_TABLE, #relation type\n",
    "                    dbName, #database name\n",
    "                    tableRef.relname,#alias=\n",
    "                    tableRef.relname,#original name\n",
    "                    Catalog[dbName][tableRef.relname] #schema\n",
    "                    ]}\n",
    "        else:\n",
    "            raise Exception(\"no such table in Catalog\",tableRef.schemaname,tableRef.relname)\n",
    "        pass"
   ],
   "metadata": {
    "collapsed": false
   }
  },
  {
   "cell_type": "markdown",
   "source": [
    "## 表达式builder\n",
    "\n",
    "表达式构建基类。也是最复杂的类。"
   ],
   "metadata": {
    "collapsed": false
   }
  },
  {
   "cell_type": "code",
   "execution_count": 505,
   "outputs": [],
   "source": [
    "class ExpressionBuilder(LogicalPlanBuilder):\n",
    "    def __init__(self):\n",
    "        super().__init__()\n",
    "\n",
    "    def build(self,node,plan : dict):\n",
    "        \"\"\"根据ast的类型。构建表达式。结果是tuple类型\"\"\"\n",
    "        if isinstance(node,ast.A_Expr):\n",
    "            if node.kind == enums.parsenodes.A_Expr_Kind.AEXPR_OP:\n",
    "                opName = node.name[0].sval\n",
    "                if opName == \"<=\":\n",
    "                    l = self.build(node.lexpr,plan)\n",
    "                    r = self.build(node.rexpr,plan)\n",
    "                    return EXPR_OP_LESS_EQUAL,l,r\n",
    "                elif opName == \"-\":\n",
    "                    l = self.build(node.lexpr,plan)\n",
    "                    r = self.build(node.rexpr,plan)\n",
    "                    return EXPR_OP_MINUS,l,r\n",
    "                elif opName == \"*\":\n",
    "                    l = self.build(node.lexpr,plan)\n",
    "                    r = self.build(node.rexpr,plan)\n",
    "                    return EXPR_OP_MULTI,l,r\n",
    "                elif opName == \"+\":\n",
    "                    l = self.build(node.lexpr,plan)\n",
    "                    r = self.build(node.rexpr,plan)\n",
    "                    return EXPR_OP_PLUS,l,r\n",
    "                else:\n",
    "                    raise Exception(\"unsupported operator\",node)\n",
    "            else:\n",
    "                raise Exception(\"unsupported expr 1\",node)\n",
    "        elif isinstance(node,ast.ColumnRef):\n",
    "            fields = node.fields\n",
    "            if len(fields) == 1:\n",
    "                colName = fields[0].sval\n",
    "                colRef = getColumn(plan,\"\",\"\",colName)\n",
    "                return EXPR_OP_COLUMN_REF, colRef\n",
    "            raise Exception(\"unsupported column ref\",node)\n",
    "        elif isinstance(node,ast.TypeCast):\n",
    "            e = self.build(node.arg,plan)\n",
    "            t = node.typeName.names\n",
    "            return EXPR_OP_CAST,e,t\n",
    "        elif isinstance(node,ast.A_Const):\n",
    "            if node.isnull:\n",
    "                return EXPR_OP_CONST,node.isnull\n",
    "            return EXPR_OP_CONST,node.isnull,node.val\n",
    "        elif isinstance(node,ast.FuncCall):\n",
    "            func_name = node.funcname[0].sval\n",
    "            is_agg_func = False\n",
    "            if is_aggregate_func(func_name):\n",
    "                is_agg_func = True\n",
    "            args = None\n",
    "            if node.args is not None:\n",
    "                args = []\n",
    "                for arg in node.args:\n",
    "                    arg_e = self.build(arg,plan)\n",
    "                    args.append(arg_e)\n",
    "            elif node.agg_star:\n",
    "                args = \"*\"\n",
    "            else:\n",
    "                raise Exception(\"function has no args\",node)\n",
    "            if is_agg_func:\n",
    "                aggs = plan.get(AGGREGATE,[])\n",
    "                agg_idx = len(aggs)\n",
    "                aggs.append((FUNC_EXPR,func_name,args))\n",
    "                plan[AGGREGATE] = aggs\n",
    "                return FUNC_RESULT_REF_EXPR,agg_idx\n",
    "            return FUNC_EXPR,func_name,args\n",
    "        else:\n",
    "            raise Exception(\"unsupported expr 2\",node)\n",
    "        pass\n",
    "\n",
    "\n",
    "def is_aggregate_func(name):\n",
    "    return name in [\"count\",\"avg\",\"sum\"]"
   ],
   "metadata": {
    "collapsed": false
   }
  },
  {
   "cell_type": "markdown",
   "source": [
    "## where子句builder\n",
    "\n",
    "构建where表达式。"
   ],
   "metadata": {
    "collapsed": false
   }
  },
  {
   "cell_type": "code",
   "execution_count": 506,
   "outputs": [],
   "source": [
    "class WhereBuilder(LogicalPlanBuilder):\n",
    "    def __init__(self):\n",
    "        super().__init__()\n",
    "\n",
    "    def build(self,node,plan : dict):\n",
    "        eb = ExpressionBuilder()\n",
    "        ret = eb.build(node,plan)\n",
    "        plan[WHERE] = ret"
   ],
   "metadata": {
    "collapsed": false
   }
  },
  {
   "cell_type": "markdown",
   "source": [
    "## select expr builder"
   ],
   "metadata": {
    "collapsed": false
   }
  },
  {
   "cell_type": "code",
   "execution_count": 507,
   "outputs": [],
   "source": [
    "class SelectExprBuilder(ExpressionBuilder):\n",
    "    def __init__(self):\n",
    "        super().__init__()\n",
    "\n",
    "    def build(self,node,plan : dict):\n",
    "        if isinstance(node,ast.ResTarget):\n",
    "            value = node.val\n",
    "            if isinstance(value,ast.ColumnRef):\n",
    "                r = super().build(value,plan)\n",
    "                alias = node.name\n",
    "                if not isValidName(alias):\n",
    "                    #取列名\n",
    "                    alias = r[1][0].name\n",
    "                return OUTPUT_EXPR, alias, r\n",
    "            elif isinstance(value,ast.FuncCall):\n",
    "                r = super().build(value,plan)\n",
    "                alias = node.name\n",
    "                if not isValidName(alias):\n",
    "                    #取表达式字符串\n",
    "                    alias = str(value)\n",
    "                return OUTPUT_EXPR,alias,r\n",
    "            else:\n",
    "                return super().build(value,plan)\n",
    "        else:\n",
    "            return super().build(node,plan)\n"
   ],
   "metadata": {
    "collapsed": false
   }
  },
  {
   "cell_type": "markdown",
   "source": [
    "## select list builder"
   ],
   "metadata": {
    "collapsed": false
   }
  },
  {
   "cell_type": "code",
   "execution_count": 508,
   "outputs": [],
   "source": [
    "\n",
    "class SelectListBuilder(LogicalPlanBuilder):\n",
    "    def __init__(self):\n",
    "        super().__init__()\n",
    "\n",
    "    def build(self,node,plan : dict):\n",
    "        selExprBuilder = SelectExprBuilder()\n",
    "        output = []\n",
    "        for expr in node:\n",
    "            o = selExprBuilder.build(expr,plan)\n",
    "            output.append(o)\n",
    "        plan[OUTPUT] = output"
   ],
   "metadata": {
    "collapsed": false
   }
  },
  {
   "cell_type": "markdown",
   "source": [
    "## group expr builder"
   ],
   "metadata": {
    "collapsed": false
   }
  },
  {
   "cell_type": "code",
   "execution_count": 509,
   "outputs": [],
   "source": [
    "class GroupExprBuilder(ExpressionBuilder):\n",
    "    def __init__(self):\n",
    "        super().__init__()\n",
    "\n",
    "    def build(self,node,plan : dict):\n",
    "        r = super().build(node,plan)\n",
    "        return GROUP_EXPR,r"
   ],
   "metadata": {
    "collapsed": false
   }
  },
  {
   "cell_type": "markdown",
   "source": [
    "## group by子句builder"
   ],
   "metadata": {
    "collapsed": false
   }
  },
  {
   "cell_type": "code",
   "execution_count": 510,
   "outputs": [],
   "source": [
    "class GroupbyBuilder(LogicalPlanBuilder):\n",
    "    def __init__(self):\n",
    "        super().__init__()\n",
    "\n",
    "    def build(self,node,plan : dict):\n",
    "        geb = GroupExprBuilder()\n",
    "        groupby = []\n",
    "        for expr in node:\n",
    "            r = geb.build(expr,plan)\n",
    "            groupby.append(r)\n",
    "        plan[GROUP] = groupby\n",
    "        pass"
   ],
   "metadata": {
    "collapsed": false
   }
  },
  {
   "cell_type": "markdown",
   "source": [
    "## order expr builder"
   ],
   "metadata": {
    "collapsed": false
   }
  },
  {
   "cell_type": "code",
   "execution_count": 511,
   "outputs": [],
   "source": [
    "class OrderExprBuilder(ExpressionBuilder):\n",
    "    def __init__(self):\n",
    "        super().__init__()\n",
    "\n",
    "    def build(self,node,plan : dict):\n",
    "        if isinstance(node,ast.SortBy):\n",
    "            r = super().build(node.node,plan)\n",
    "            return ORDER_EXPR,r,node.sortby_dir\n",
    "        else:\n",
    "            raise Exception(f\"not implement order expr {node}\")"
   ],
   "metadata": {
    "collapsed": false
   }
  },
  {
   "cell_type": "markdown",
   "source": [
    "## order by builder"
   ],
   "metadata": {
    "collapsed": false
   }
  },
  {
   "cell_type": "code",
   "execution_count": 512,
   "outputs": [],
   "source": [
    "class OrderbyBuilder(LogicalPlanBuilder):\n",
    "    def __init__(self):\n",
    "        super().__init__()\n",
    "\n",
    "    def build(self,node,plan : dict):\n",
    "        oeb = OrderExprBuilder()\n",
    "        orderby = []\n",
    "        for expr in node:\n",
    "            r = oeb.build(expr,plan)\n",
    "            orderby.append(r)\n",
    "        plan[ORDER] = orderby\n",
    "        pass"
   ],
   "metadata": {
    "collapsed": false
   }
  },
  {
   "cell_type": "markdown",
   "source": [
    "## project expr builder"
   ],
   "metadata": {
    "collapsed": false
   }
  },
  {
   "cell_type": "code",
   "execution_count": 513,
   "outputs": [],
   "source": [
    "class ProjectExprBuilder(ExpressionBuilder):\n",
    "    def __init__(self):\n",
    "        super().__init__()\n",
    "\n",
    "    def build(self,node,plan : dict):\n",
    "        if isinstance(node,ast.ResTarget):\n",
    "            value = node.val\n",
    "            if isinstance(value,ast.ColumnRef):\n",
    "                r = super().build(value,plan)\n",
    "                alias = node.name\n",
    "                if not isValidName(alias):\n",
    "                    #取列名\n",
    "                    alias = r[1][0].name\n",
    "                return PROJECT_EXPR, alias\n",
    "            elif isinstance(value,ast.FuncCall):\n",
    "                r = super().build(value,plan)\n",
    "                alias = node.name\n",
    "                if not isValidName(alias):\n",
    "                    #取表达式字符串\n",
    "                    alias = str(value)\n",
    "                return PROJECT_EXPR,alias\n",
    "            else:\n",
    "                return super().build(value,plan)\n",
    "        else:\n",
    "            return super().build(node,plan)\n"
   ],
   "metadata": {
    "collapsed": false
   }
  },
  {
   "cell_type": "markdown",
   "source": [
    "## project list builder"
   ],
   "metadata": {
    "collapsed": false
   }
  },
  {
   "cell_type": "code",
   "execution_count": 514,
   "outputs": [],
   "source": [
    "class ProjectListBuilder(LogicalPlanBuilder):\n",
    "    def __init__(self):\n",
    "        super().__init__()\n",
    "\n",
    "    def build(self,node,plan : dict):\n",
    "        projectExprBuilder = ProjectExprBuilder()\n",
    "        projects = []\n",
    "        for expr in node:\n",
    "            p = projectExprBuilder.build(expr,plan)\n",
    "            projects.append(p)\n",
    "        plan[PROJECT] = projects"
   ],
   "metadata": {
    "collapsed": false
   }
  },
  {
   "cell_type": "markdown",
   "source": [
    "# 构建tpch q1的物理查询计划"
   ],
   "metadata": {
    "collapsed": false
   }
  },
  {
   "cell_type": "markdown",
   "source": [
    "## 物理计划builder"
   ],
   "metadata": {
    "collapsed": false
   }
  },
  {
   "cell_type": "code",
   "execution_count": 515,
   "outputs": [],
   "source": [
    "class PhysicalPlanBuilder:\n",
    "    def __init__(self):\n",
    "        pass\n",
    "\n",
    "    def build(self,plan : dict,node : str):\n",
    "        \"\"\"根据当前的节点类型。构建物理执行器。返回Executor实例。\"\"\"\n",
    "        if node == RELATIONS:\n",
    "            rel_info = plan.get(RELATIONS)\n",
    "            if rel_info[0] == SINGLE_RELATION:\n",
    "                rel_def = rel_info[1]\n",
    "                table_name = list(rel_def.keys())[0]\n",
    "                table_def = rel_def.get(table_name)\n",
    "                schema = table_def[SCHEMA_IDX]\n",
    "                return CsvTableScan(schema,None,[16])\n",
    "            else:\n",
    "                raise Exception(f\"not implement relations {rel_info[0]}\")\n",
    "\n",
    "        elif node == WHERE :\n",
    "            child = self.build(plan,RELATIONS)\n",
    "            # 生成filter执行器\n",
    "            filter = plan.get(WHERE)\n",
    "            filter_exec = FilterExecutor(filter,child)\n",
    "            return filter_exec\n",
    "        elif node == GROUP:\n",
    "            child = self.build(plan,WHERE)\n",
    "            # 生成groupby执行器\n",
    "            groupby = GroupbyExecutor(plan,child)\n",
    "            return groupby\n",
    "        elif node == ORDER:\n",
    "            child = self.build(plan,GROUP)\n",
    "            orderby = OrderbyExecutor(plan,child)\n",
    "            return orderby\n",
    "        elif node == PROJECT:\n",
    "            child = self.build(plan,ORDER)\n",
    "            project = ProjectListExecutor(plan,child)\n",
    "            return project\n",
    "        else:\n",
    "            raise Exception(f\"not implement plan\")\n"
   ],
   "metadata": {
    "collapsed": false
   }
  },
  {
   "cell_type": "markdown",
   "source": [
    "## 物理执行计划执行器"
   ],
   "metadata": {
    "collapsed": false
   }
  },
  {
   "cell_type": "code",
   "execution_count": 516,
   "outputs": [],
   "source": [
    "class Executor:\n",
    "    def __init__(self):\n",
    "        pass\n",
    "\n",
    "    def Open(self):\n",
    "        pass\n",
    "\n",
    "    def Next(self):\n",
    "        pass\n",
    "\n",
    "    def Close(self):\n",
    "        pass"
   ],
   "metadata": {
    "collapsed": false
   }
  },
  {
   "cell_type": "markdown",
   "source": [
    "## csv table scan执行器"
   ],
   "metadata": {
    "collapsed": false
   }
  },
  {
   "cell_type": "code",
   "execution_count": 517,
   "outputs": [],
   "source": [
    "class CsvTableScan(Executor):\n",
    "    def __init__(self,schema : arrow.Schema,column_names : list,drop_columns : list):\n",
    "        super().__init__()\n",
    "        self.reader = None\n",
    "        self.schema = schema\n",
    "        self.column_names = column_names\n",
    "        #要删除列的索引\n",
    "        self.drop_columns = drop_columns\n",
    "        self.block_size = 16 * 1024\n",
    "\n",
    "    def Open(self):\n",
    "        # 打开文件\n",
    "        meta = self.schema.metadata\n",
    "        path = meta.get(b\"path\").decode('utf-8')\n",
    "        delimiter = meta.get(b\"delimiter\").decode('utf-8')\n",
    "        read_opts = arrow.csv.ReadOptions(column_names = self.column_names,\n",
    "                                          block_size = self.block_size,\n",
    "                                          autogenerate_column_names = bool)\n",
    "        parse_opts = arrow.csv.ParseOptions(delimiter = delimiter)\n",
    "        convert_opts = arrow.csv.ConvertOptions(column_types = self.schema,\n",
    "                                                include_columns = self.column_names)\n",
    "        self.reader = arrow.csv.open_csv(path,read_options = read_opts,parse_options = parse_opts,convert_options = convert_opts)\n",
    "\n",
    "    def Next(self):\n",
    "        try:\n",
    "            chunk = self.reader.read_next_batch()\n",
    "            needed_arrays = []\n",
    "            for col_idx in range(chunk.num_columns):\n",
    "                if col_idx in self.drop_columns:\n",
    "                    continue\n",
    "                needed_arrays.append(chunk.column(col_idx))\n",
    "            ret_chunk = arrow.RecordBatch.from_arrays(needed_arrays,self.column_names,self.schema)\n",
    "            return ret_chunk\n",
    "        except StopIteration:\n",
    "            return None\n",
    "\n",
    "    def Close(self):\n",
    "        self.reader.close()\n",
    "        self.reader = None\n",
    "        self.schema = None\n",
    "        self.column_names = None\n",
    "        self.drop_columns = None"
   ],
   "metadata": {
    "collapsed": false
   }
  },
  {
   "cell_type": "code",
   "execution_count": 518,
   "outputs": [],
   "source": [
    "# test\n",
    "# 笔者实验用的csv文件会多出最后一列。\n",
    "# csvReader = CsvTableScan(lineitemSchema,None,[16])\n",
    "# csvReader.Open()\n",
    "# record1 = csvReader.Next()\n",
    "# pprint(record1.to_pandas())\n",
    "# csvReader.Close()"
   ],
   "metadata": {
    "collapsed": false
   }
  },
  {
   "cell_type": "markdown",
   "source": [
    "## 表达式执行函数"
   ],
   "metadata": {
    "collapsed": false
   }
  },
  {
   "cell_type": "code",
   "execution_count": 519,
   "outputs": [],
   "source": [
    "def exec_expr(expr,records,agg_offset):\n",
    "    \"\"\"\n",
    "    在输入数据上执行表达式。用pyarrow.compute完成执行。\n",
    "    :param expr: 表达式\n",
    "    :param records: 输入数据。列存。\n",
    "    :param agg_offset: 聚合函数的偏移。用在group算子。\n",
    "    :return: 执行结果集。\n",
    "    \"\"\"\n",
    "    expr_type = expr[0]\n",
    "    if expr_type == EXPR_OP_COLUMN_REF:\n",
    "        return records.column(expr[1][0].name)\n",
    "    elif expr_type == EXPR_OP_CONST:\n",
    "        if expr[1]:# NULL\n",
    "            raise Exception(f\"not implement const NULL\")\n",
    "        else:\n",
    "            if isinstance(expr[2],ast.String):\n",
    "                return arrow.array([expr[2].sval]*records.num_rows,arrow.string())\n",
    "            elif isinstance(expr[2],ast.Integer):\n",
    "                return arrow.array([expr[2].ival]*records.num_rows,arrow.int32())\n",
    "            else:\n",
    "                raise Exception(f\"not implement const expr {expr}\")\n",
    "    elif expr_type == EXPR_OP_CAST:\n",
    "        #直接转换\n",
    "        l = exec_expr(expr[1],records,agg_offset)\n",
    "        target_type = expr[2][0].sval\n",
    "        if len(expr[2]) > 1:\n",
    "            target_type = expr[2][1].sval\n",
    "        if target_type == \"date\":\n",
    "            date_vals = []\n",
    "            for s in l:\n",
    "                date_vals.append(datetime.strptime(str(s),\"%Y-%m-%d\"))\n",
    "            return arrow.array(date_vals,arrow.date32())\n",
    "        elif target_type == \"interval\":\n",
    "            int_vals = []\n",
    "            for s in l:\n",
    "                int_vals.append(int(str(s)))\n",
    "            return arrow.array(int_vals,arrow.int32())\n",
    "        else:\n",
    "            print(f\"target_type {target_type}\")\n",
    "            return compute.cast(l,target_type)\n",
    "    elif expr_type == EXPR_OP_PLUS:\n",
    "        l = exec_expr(expr[1],records,agg_offset)\n",
    "        r = exec_expr(expr[2],records,agg_offset)\n",
    "        return compute.add(l,r)\n",
    "    elif expr_type == EXPR_OP_MINUS:\n",
    "        l = exec_expr(expr[1],records,agg_offset)\n",
    "        r = exec_expr(expr[2],records,agg_offset)\n",
    "\n",
    "        if types.is_date32(l.type):\n",
    "            #对时间的减法做特殊处理\n",
    "            date_time_vals = []\n",
    "            for d in l:\n",
    "                date_time_vals.append(datetime.strptime(str(d),\"%Y-%m-%d\"))\n",
    "            time_delta_vals = []\n",
    "            if types.is_int32(r.type):\n",
    "                for i in r:\n",
    "                    time_delta_vals.append(timedelta(int(str(i))))\n",
    "            else:\n",
    "                raise Exception(\"date minus needs int32\")\n",
    "\n",
    "            res_vals = [date_time_vals[i] - time_delta_vals[i] for i in range(len(time_delta_vals))]\n",
    "            return arrow.array(res_vals,arrow.date32())\n",
    "        else:\n",
    "            return compute.subtract(l,r)\n",
    "    elif expr_type == EXPR_OP_MULTI:\n",
    "        l = exec_expr(expr[1],records,agg_offset)\n",
    "        r = exec_expr(expr[2],records,agg_offset)\n",
    "        return compute.multiply(l,r)\n",
    "    elif expr_type == EXPR_OP_LESS_EQUAL:\n",
    "        l = exec_expr(expr[1],records,agg_offset)\n",
    "        r = exec_expr(expr[2],records,agg_offset)\n",
    "        return compute.less_equal(l,r)\n",
    "    elif expr_type == GROUP_EXPR:\n",
    "        return exec_expr(expr[1],records,agg_offset)\n",
    "    elif expr_type == OUTPUT_EXPR:\n",
    "        return exec_expr(expr[2],records,agg_offset)\n",
    "    elif expr_type == FUNC_RESULT_REF_EXPR:\n",
    "        return records.column(expr[1]+agg_offset)\n",
    "    elif expr_type == PROJECT_EXPR:\n",
    "        return records.column(expr[1])\n",
    "    else:\n",
    "        raise Exception(f\"not implement exec expr {expr}\")\n",
    "    pass"
   ],
   "metadata": {
    "collapsed": false
   }
  },
  {
   "cell_type": "markdown",
   "source": [
    "## filter执行器\n",
    "执行where表达式。"
   ],
   "metadata": {
    "collapsed": false
   }
  },
  {
   "cell_type": "markdown",
   "source": [
    "### 执行器实现"
   ],
   "metadata": {
    "collapsed": false
   }
  },
  {
   "cell_type": "code",
   "execution_count": 520,
   "outputs": [],
   "source": [
    "class FilterExecutor(Executor):\n",
    "    def __init__(self, filter: tuple, child: Executor):\n",
    "        super().__init__()\n",
    "        self.filter = filter\n",
    "        self.child = child\n",
    "\n",
    "    def Open(self):\n",
    "        self.child.Open()\n",
    "\n",
    "    def Next(self):\n",
    "        child_records = self.child.Next()\n",
    "        if child_records is None:\n",
    "            return None\n",
    "        mask = exec_expr(self.filter,child_records,0)\n",
    "        return child_records.filter(mask)\n",
    "\n",
    "    def Close(self):\n",
    "        self.child.Close()\n",
    "        self.filter = None\n",
    "        self.child = None"
   ],
   "metadata": {
    "collapsed": false
   }
  },
  {
   "cell_type": "markdown",
   "source": [
    "/*### 测试时间减法*/"
   ],
   "metadata": {
    "collapsed": false
   }
  },
  {
   "cell_type": "code",
   "execution_count": 521,
   "outputs": [],
   "source": [
    "# date1 = datetime.strptime('1998-12-01',\"%Y-%m-%d\")\n",
    "# date2_arr = arrow.array([date1]*2,arrow.date32())\n",
    "# # pprint(date2_arr)\n",
    "# date4_vals = []\n",
    "# if types.is_date32(date2_arr.type):\n",
    "#     for d in date2_arr:\n",
    "#         print(datetime.strptime(str(d),\"%Y-%m-%d\"))\n",
    "#\n",
    "# date3_arr = arrow.array([112]*2,arrow.int32())\n",
    "# if types.is_int32(date3_arr.type):\n",
    "#     for i in date3_arr:\n",
    "#         print(timedelta(int(str(i))))\n",
    "#"
   ],
   "metadata": {
    "collapsed": false
   }
  },
  {
   "cell_type": "markdown",
   "source": [
    "## groupby执行器"
   ],
   "metadata": {
    "collapsed": false
   }
  },
  {
   "cell_type": "markdown",
   "source": [
    "### 聚合函数中间结果"
   ],
   "metadata": {
    "collapsed": false
   }
  },
  {
   "cell_type": "code",
   "execution_count": 522,
   "outputs": [],
   "source": [
    "class AggFunc:\n",
    "    def __init__(self):\n",
    "        pass\n",
    "\n",
    "    def name(self):\n",
    "        pass\n",
    "\n",
    "    def add(self,records,row_idx):\n",
    "        pass\n",
    "\n",
    "    def addRecords(self,records):\n",
    "        pass\n",
    "\n",
    "    def merge(self,other):\n",
    "        pass\n",
    "\n",
    "    def get(self):\n",
    "        pass\n",
    "\n",
    "class AggFuncFactory:\n",
    "    def __init__(self):\n",
    "        pass\n",
    "\n",
    "    def create(self,name):\n",
    "        if name == \"sum\":\n",
    "            return AggFuncSum()\n",
    "        elif name == \"count\":\n",
    "            return AggFuncCount()\n",
    "        elif name == \"avg\":\n",
    "            return AggFuncAvg()\n",
    "        else:\n",
    "            raise Exception(f\"not implement agg func {name}\")\n",
    "\n",
    "class AggFuncSum(AggFunc):\n",
    "    def __init__(self):\n",
    "        super().__init__()\n",
    "        self.sum = None\n",
    "\n",
    "    def name(self):\n",
    "        return \"sum\"\n",
    "\n",
    "    def add(self,records,row_idx):\n",
    "        param_val = records[0][row_idx]\n",
    "        if self.sum is None:\n",
    "            self.sum = param_val\n",
    "        else:\n",
    "            self.sum = compute.add(self.sum,param_val)\n",
    "\n",
    "    def addRecords(self,records):\n",
    "        pass\n",
    "\n",
    "    def merge(self,other):\n",
    "        pass\n",
    "\n",
    "    def get(self):\n",
    "        return self.sum\n",
    "\n",
    "class AggFuncCount(AggFunc):\n",
    "    def __init__(self):\n",
    "        super().__init__()\n",
    "        self.count = 0\n",
    "\n",
    "    def name(self):\n",
    "        return \"count\"\n",
    "\n",
    "    def add(self,records,row_idx):\n",
    "        self.count = self.count + 1\n",
    "\n",
    "    def addRecords(self,records):\n",
    "        pass\n",
    "\n",
    "    def merge(self,other):\n",
    "        pass\n",
    "\n",
    "    def get(self):\n",
    "        return self.count\n",
    "\n",
    "class AggFuncAvg(AggFunc):\n",
    "    def __init__(self):\n",
    "        super().__init__()\n",
    "        self.count = 0\n",
    "        self.sum = None\n",
    "\n",
    "    def name(self):\n",
    "        return \"avg\"\n",
    "\n",
    "    def add(self,records,row_idx):\n",
    "        param_val = records[0][row_idx]\n",
    "        if self.sum is None:\n",
    "            self.sum = param_val\n",
    "        else:\n",
    "            self.sum = compute.add(self.sum,param_val)\n",
    "        self.count = self.count + 1\n",
    "\n",
    "    def addRecords(self,records):\n",
    "        pass\n",
    "\n",
    "    def merge(self,other):\n",
    "        pass\n",
    "\n",
    "    def get(self):\n",
    "        return compute.divide(self.sum , self.count)"
   ],
   "metadata": {
    "collapsed": false
   }
  },
  {
   "cell_type": "markdown",
   "source": [
    "### 取groupby的Field"
   ],
   "metadata": {
    "collapsed": false
   }
  },
  {
   "cell_type": "code",
   "execution_count": 523,
   "outputs": [],
   "source": [
    "def get_field_from_groupby(e):\n",
    "    \"\"\"从groupby表达式中取出pyarrow.Field\"\"\"\n",
    "    typ = e[1][0]\n",
    "    if typ == EXPR_OP_COLUMN_REF:\n",
    "        return e[1][1][0]\n",
    "    else:\n",
    "        raise Exception(f\"not implement group by {e}\")"
   ],
   "metadata": {
    "collapsed": false
   }
  },
  {
   "cell_type": "markdown",
   "source": [
    "### 确定scalar的类型"
   ],
   "metadata": {
    "collapsed": false
   }
  },
  {
   "cell_type": "code",
   "execution_count": 524,
   "outputs": [],
   "source": [
    "def get_field_from_value(s):\n",
    "    \"\"\"将值类型转成pyarrow类型\"\"\"\n",
    "    if isinstance(s,arrow.StringScalar):\n",
    "        return s.type\n",
    "    elif isinstance(s,arrow.Decimal256Scalar):\n",
    "        return s.type\n",
    "    elif isinstance(s,arrow.Int64Scalar):\n",
    "        return s.type\n",
    "    elif isinstance(s,arrow.DoubleScalar):\n",
    "        return s.type\n",
    "    elif isinstance(s,int):\n",
    "        return arrow.int64()\n",
    "    elif isinstance(s,str):\n",
    "        return arrow.string()\n",
    "    else:\n",
    "        raise Exception(f\"not implement scalar type {s} {type(s)}\")"
   ],
   "metadata": {
    "collapsed": false
   }
  },
  {
   "cell_type": "markdown",
   "source": [
    "### 数据列转成array"
   ],
   "metadata": {
    "collapsed": false
   }
  },
  {
   "cell_type": "code",
   "execution_count": 525,
   "outputs": [],
   "source": [
    "def convert_col_to_array(col,typ):\n",
    "    \"\"\"将输入列转成pyarrow.Array\"\"\"\n",
    "    if isinstance(col[0],arrow.StringScalar):\n",
    "        return arrow.array([ss.as_py() for ss in col],typ)\n",
    "    elif isinstance(col[0],arrow.Decimal256Scalar):\n",
    "        return arrow.array([ss.as_py() for ss in col],typ)\n",
    "    elif isinstance(col[0],arrow.DoubleScalar):\n",
    "        return arrow.array([ss.as_py() for ss in col],typ)\n",
    "    elif isinstance(col[0],int):\n",
    "        return arrow.array(col,typ)\n",
    "    elif isinstance(col[0],str):\n",
    "        return arrow.array(col,typ)\n",
    "    else:\n",
    "        raise Exception(f\"not implement col type {col}\")"
   ],
   "metadata": {
    "collapsed": false
   }
  },
  {
   "cell_type": "markdown",
   "source": [
    "### 执行器实现"
   ],
   "metadata": {
    "collapsed": false
   }
  },
  {
   "cell_type": "code",
   "execution_count": 526,
   "outputs": [],
   "source": [
    "class GroupbyExecutor(Executor):\n",
    "    def __init__(self, plan: dict, child: Executor):\n",
    "        super().__init__()\n",
    "        self.plan = plan\n",
    "        self.child = child\n",
    "        self.aggregate = plan.get(AGGREGATE,[])\n",
    "        self.groupby = plan.get(GROUP,[])\n",
    "        self.output = plan.get(OUTPUT,[])\n",
    "        self.hash_func = hashlib.sha256()\n",
    "        #构建哈希表\n",
    "        self.hash_table = {}\n",
    "        self.agg_factory = AggFuncFactory()\n",
    "\n",
    "    def update_agg_func_val(self,hash_key,group_by_vals,param_vals,row_idx):\n",
    "        \"\"\"\n",
    "        更新聚合函数的中间结果。\n",
    "        中间结果的分布：\n",
    "            groupby1_val, groupby2_val, ..., agg1_val, agg2_val, ...,\n",
    "        :param hash_key:\n",
    "        :param group_by_vals:group by表达式值\n",
    "        :param param_vals:参数表达式值\n",
    "        :param row_idx:行号。这行值要更新到聚合结果中。\n",
    "        :return:\n",
    "        \"\"\"\n",
    "        #取中间结果\n",
    "        hash_val = self.hash_table.get(hash_key,[])\n",
    "        if len(hash_val) == 0:\n",
    "            agg_func_vals = []\n",
    "            for agg_func_expr in self.aggregate:\n",
    "                agg_func_name = agg_func_expr[1]\n",
    "                intermediate_result = self.agg_factory.create(agg_func_name)\n",
    "                agg_func_vals.append(intermediate_result)\n",
    "            group_by_row_vals = []\n",
    "            for v in group_by_vals:\n",
    "                group_by_row_vals.append(v[row_idx])\n",
    "            # groupby1, groupby2, ..., agg1,agg2, ...,\n",
    "            hash_val = [group_by_row_vals,agg_func_vals]\n",
    "            self.hash_table[hash_key] = hash_val\n",
    "\n",
    "        #更新中间结果\n",
    "        for agg_idx in range(len(self.aggregate)):\n",
    "            agg_func_val = hash_val[1][agg_idx]\n",
    "            param_val = param_vals[agg_idx]\n",
    "            agg_func_val.add(param_val,row_idx)\n",
    "\n",
    "\n",
    "    def end_agg_func_val(self):\n",
    "        #取聚合的最终结果\n",
    "        # groupby1, groupby2, ..., agg1,agg2,...,\n",
    "        result_cols = []\n",
    "        for hash_key,hash_val in self.hash_table.items():\n",
    "            if len(result_cols) == 0:\n",
    "                result_cols = [[] for _ in range(len(hash_val[0]) + len(hash_val[1]))]\n",
    "            #拼接group_by\n",
    "            for i in range(len(hash_val[0])):\n",
    "                result_cols[i].append(hash_val[0][i])\n",
    "\n",
    "            ##拼接聚合函数结果\n",
    "            begin = len(hash_val[0])\n",
    "            for i in range(len(hash_val[1])):\n",
    "                j = begin + i\n",
    "                result_cols[j].append(hash_val[1][i].get())\n",
    "\n",
    "        # 定义schema，此处直接拿第一行的结果类型。\n",
    "        # 正确的做法应该是类型推断\n",
    "        result_types = []\n",
    "        for i in range(len(result_cols)):\n",
    "            col = result_cols[i]\n",
    "            v = col[0]\n",
    "            if i < len(self.groupby):\n",
    "                result_types.append(get_field_from_groupby(self.groupby[i]))\n",
    "            else:\n",
    "                t = get_field_from_value(v)\n",
    "                result_types.append((str(i - len(self.groupby)),t))\n",
    "\n",
    "        schema = arrow.schema(result_types)\n",
    "\n",
    "        #确定数据\n",
    "        result_arr = []\n",
    "        for i in range(len(result_cols)):\n",
    "            col = result_cols[i]\n",
    "            result_arr.append(convert_col_to_array(col,schema.field(i).type))\n",
    "        return arrow.record_batch(result_arr,schema)\n",
    "\n",
    "    def update_hash_table(self,group_by_vals,hash_keys,records):\n",
    "        \"\"\"\n",
    "        更新每个组（hash key区分）的聚合函数值。\n",
    "        :param group_by_vals: groupby表达式的值\n",
    "        :param hash_keys: groupby表达式的值的hash值\n",
    "        :param records:\n",
    "        :return:\n",
    "        \"\"\"\n",
    "        # 计算聚合函数的参数表达式\n",
    "        all_arg_vals = []\n",
    "        for agg_idx in range(len(self.aggregate)):\n",
    "            agg_func = self.aggregate[agg_idx]\n",
    "            # 计算每个参数的值\n",
    "            agg_func_name = agg_func[1]\n",
    "            agg_args = agg_func[2]\n",
    "            agg_arg_vals = []\n",
    "            for arg in agg_args:\n",
    "                if agg_func_name == \"count\" and arg == \"*\":\n",
    "                    agg_arg_vals.append(arrow.array([\"*\"]*records.num_rows,arrow.string()))\n",
    "                else:\n",
    "                    agg_arg_val = exec_expr(arg,records,0)\n",
    "                    agg_arg_vals.append(agg_arg_val)\n",
    "            all_arg_vals.append(agg_arg_vals)\n",
    "\n",
    "        # 根据哈希key分组\n",
    "        row_count = len(group_by_vals[0])\n",
    "        for r in range(row_count):\n",
    "            hash_key = hash_keys[r]\n",
    "            #更新聚合函数的中间结果\n",
    "            self.update_agg_func_val(hash_key,group_by_vals,all_arg_vals,r)\n",
    "\n",
    "    def Open(self):\n",
    "        self.child.Open()\n",
    "\n",
    "    def Next(self):\n",
    "        records = self.child.Next()\n",
    "        if records is None:\n",
    "            return None\n",
    "        while records is not None:\n",
    "            # 计算groupby表达式\n",
    "            group_by_vals = []\n",
    "            #每行一个hash\n",
    "            hash_funcs = [hashlib.sha256() for _ in range(records.num_rows)]\n",
    "            for e in self.groupby:\n",
    "                val = exec_expr(e,records,0)\n",
    "                i = 0\n",
    "                for v in val:\n",
    "                    hash_funcs[i].update(str(v).encode(\"utf-8\"))\n",
    "                    i = i + 1\n",
    "                group_by_vals.append(val)\n",
    "            hash_keys = []\n",
    "            for hash in hash_funcs:\n",
    "                hash_keys.append(hash.hexdigest())\n",
    "            hash_funcs = None\n",
    "            self.update_hash_table(group_by_vals,hash_keys,records)\n",
    "            # 下一批输入\n",
    "            records = self.child.Next()\n",
    "\n",
    "        #拼接聚合函数结果\n",
    "        # groupby1, groupby2, ..., agg1,agg2,...,\n",
    "        agg_records = self.end_agg_func_val()\n",
    "\n",
    "        #计算output list的值\n",
    "        output_vals = []\n",
    "        output_types = []\n",
    "        for e in self.output:\n",
    "            val = exec_expr(e,agg_records,len(self.groupby))\n",
    "            output_vals.append(val)\n",
    "            output_types.append((e[1],get_field_from_value(val[0])))\n",
    "\n",
    "        output_schema = arrow.schema(output_types)\n",
    "        output_records = arrow.record_batch(output_vals,output_schema)\n",
    "        return output_records\n",
    "\n",
    "    def Close(self):\n",
    "        self.child.Close()\n",
    "        self.plan = None\n",
    "        self.child = None\n",
    "        self.aggregate = None\n",
    "        self.groupby = None\n",
    "        self.output = None\n",
    "        self.hash_func = None\n",
    "        self.hash_table = None\n",
    "        self.agg_factory = None"
   ],
   "metadata": {
    "collapsed": false
   }
  },
  {
   "cell_type": "markdown",
   "source": [
    "## orderby执行器"
   ],
   "metadata": {
    "collapsed": false
   }
  },
  {
   "cell_type": "markdown",
   "source": [
    "### 取排序表达式"
   ],
   "metadata": {
    "collapsed": false
   }
  },
  {
   "cell_type": "code",
   "execution_count": 527,
   "outputs": [],
   "source": [
    "def get_sort_key_name(e):\n",
    "    #从sortby表达式中取出name\n",
    "    typ = e[0]\n",
    "    if typ == EXPR_OP_COLUMN_REF:\n",
    "        return e[1][0].name\n",
    "    else:\n",
    "        raise Exception(f\"not implement sort key name {e}\")\n",
    "\n",
    "def get_sort_keys(orderby):\n",
    "    sorts =[]\n",
    "    for e in orderby:\n",
    "        name = get_sort_key_name(e[1])\n",
    "        dir = \"ascending\"\n",
    "        if e[2] == enums.parsenodes.SortByDir.SORTBY_DESC:\n",
    "            dir = \"descending\"\n",
    "        sorts.append((name,dir))\n",
    "    return sorts"
   ],
   "metadata": {
    "collapsed": false
   }
  },
  {
   "cell_type": "markdown",
   "source": [
    "### 执行器实现"
   ],
   "metadata": {
    "collapsed": false
   }
  },
  {
   "cell_type": "code",
   "execution_count": 528,
   "outputs": [],
   "source": [
    "class OrderbyExecutor(Executor):\n",
    "    def __init__(self,plan,child):\n",
    "        super().__init__()\n",
    "        self.plan = plan\n",
    "        self.child = child\n",
    "        self.orderby = plan.get(ORDER,[])\n",
    "\n",
    "    def Open(self):\n",
    "        self.child.Open()\n",
    "\n",
    "    def Next(self):\n",
    "        records = self.child.Next()\n",
    "        if records is None:\n",
    "            return None\n",
    "\n",
    "        #取排序字段\n",
    "        sort_keys = get_sort_keys(self.orderby)\n",
    "        #排序并获取排序后的索引\n",
    "        indices = compute.sort_indices(records,sort_keys)\n",
    "        #按排序索引重新行顺序\n",
    "        return compute.take(records,indices)\n",
    "\n",
    "    def Close(self):\n",
    "        self.child.Close()\n",
    "        self.plan = None\n",
    "        self.child= None\n",
    "        self.orderby = None"
   ],
   "metadata": {
    "collapsed": false
   }
  },
  {
   "cell_type": "markdown",
   "source": [
    "## project list执行器"
   ],
   "metadata": {
    "collapsed": false
   }
  },
  {
   "cell_type": "code",
   "execution_count": 529,
   "outputs": [],
   "source": [
    "class ProjectListExecutor(Executor):\n",
    "    def __init__(self,plan,child):\n",
    "        super().__init__()\n",
    "        self.plan = plan\n",
    "        self.child = child\n",
    "        self.project_list = plan.get(PROJECT,[])\n",
    "\n",
    "    def Open(self):\n",
    "        self.child.Open()\n",
    "\n",
    "    def Next(self):\n",
    "        records = self.child.Next()\n",
    "        if records is None:\n",
    "            return records\n",
    "\n",
    "        #计算project list的值\n",
    "        project_vals = []\n",
    "        project_types = []\n",
    "        for e in self.project_list:\n",
    "            val = exec_expr(e,records,0)\n",
    "            project_vals.append(val)\n",
    "            project_types.append((e[1],get_field_from_value(val[0])))\n",
    "\n",
    "        schema = arrow.schema(project_types)\n",
    "        project_records = arrow.record_batch(project_vals,schema)\n",
    "        return project_records\n",
    "\n",
    "    def Close(self):\n",
    "        self.child.Close()\n",
    "        self.plan = None\n",
    "        self.child= None\n",
    "        self.project_list = None"
   ],
   "metadata": {
    "collapsed": false
   }
  },
  {
   "cell_type": "markdown",
   "source": [],
   "metadata": {
    "collapsed": false
   }
  },
  {
   "cell_type": "markdown",
   "source": [
    "# main"
   ],
   "metadata": {
    "collapsed": false
   }
  },
  {
   "cell_type": "markdown",
   "source": [
    "## 查看tpch q1逻辑计划"
   ],
   "metadata": {
    "collapsed": false
   }
  },
  {
   "cell_type": "code",
   "execution_count": 530,
   "outputs": [
    {
     "name": "stdout",
     "output_type": "stream",
     "text": [
      "{'aggregate': [('func',\n",
      "                'sum',\n",
      "                [('colRef',\n",
      "                  (pyarrow.Field<l_quantity: double not null>,\n",
      "                   'tpch',\n",
      "                   'lineitem'))]),\n",
      "               ('func',\n",
      "                'sum',\n",
      "                [('colRef',\n",
      "                  (pyarrow.Field<l_extendedprice: double not null>,\n",
      "                   'tpch',\n",
      "                   'lineitem'))]),\n",
      "               ('func',\n",
      "                'sum',\n",
      "                [('*',\n",
      "                  ('colRef',\n",
      "                   (pyarrow.Field<l_extendedprice: double not null>,\n",
      "                    'tpch',\n",
      "                    'lineitem')),\n",
      "                  ('-',\n",
      "                   ('const', False, <Integer ival=1>),\n",
      "                   ('colRef',\n",
      "                    (pyarrow.Field<l_discount: double not null>,\n",
      "                     'tpch',\n",
      "                     'lineitem'))))]),\n",
      "               ('func',\n",
      "                'sum',\n",
      "                [('*',\n",
      "                  ('*',\n",
      "                   ('colRef',\n",
      "                    (pyarrow.Field<l_extendedprice: double not null>,\n",
      "                     'tpch',\n",
      "                     'lineitem')),\n",
      "                   ('-',\n",
      "                    ('const', False, <Integer ival=1>),\n",
      "                    ('colRef',\n",
      "                     (pyarrow.Field<l_discount: double not null>,\n",
      "                      'tpch',\n",
      "                      'lineitem')))),\n",
      "                  ('+',\n",
      "                   ('const', False, <Integer ival=1>),\n",
      "                   ('colRef',\n",
      "                    (pyarrow.Field<l_tax: double not null>,\n",
      "                     'tpch',\n",
      "                     'lineitem'))))]),\n",
      "               ('func',\n",
      "                'avg',\n",
      "                [('colRef',\n",
      "                  (pyarrow.Field<l_quantity: double not null>,\n",
      "                   'tpch',\n",
      "                   'lineitem'))]),\n",
      "               ('func',\n",
      "                'avg',\n",
      "                [('colRef',\n",
      "                  (pyarrow.Field<l_extendedprice: double not null>,\n",
      "                   'tpch',\n",
      "                   'lineitem'))]),\n",
      "               ('func',\n",
      "                'avg',\n",
      "                [('colRef',\n",
      "                  (pyarrow.Field<l_discount: double not null>,\n",
      "                   'tpch',\n",
      "                   'lineitem'))]),\n",
      "               ('func', 'count', '*'),\n",
      "               ('func',\n",
      "                'sum',\n",
      "                [('colRef',\n",
      "                  (pyarrow.Field<l_quantity: double not null>,\n",
      "                   'tpch',\n",
      "                   'lineitem'))]),\n",
      "               ('func',\n",
      "                'sum',\n",
      "                [('colRef',\n",
      "                  (pyarrow.Field<l_extendedprice: double not null>,\n",
      "                   'tpch',\n",
      "                   'lineitem'))]),\n",
      "               ('func',\n",
      "                'sum',\n",
      "                [('*',\n",
      "                  ('colRef',\n",
      "                   (pyarrow.Field<l_extendedprice: double not null>,\n",
      "                    'tpch',\n",
      "                    'lineitem')),\n",
      "                  ('-',\n",
      "                   ('const', False, <Integer ival=1>),\n",
      "                   ('colRef',\n",
      "                    (pyarrow.Field<l_discount: double not null>,\n",
      "                     'tpch',\n",
      "                     'lineitem'))))]),\n",
      "               ('func',\n",
      "                'sum',\n",
      "                [('*',\n",
      "                  ('*',\n",
      "                   ('colRef',\n",
      "                    (pyarrow.Field<l_extendedprice: double not null>,\n",
      "                     'tpch',\n",
      "                     'lineitem')),\n",
      "                   ('-',\n",
      "                    ('const', False, <Integer ival=1>),\n",
      "                    ('colRef',\n",
      "                     (pyarrow.Field<l_discount: double not null>,\n",
      "                      'tpch',\n",
      "                      'lineitem')))),\n",
      "                  ('+',\n",
      "                   ('const', False, <Integer ival=1>),\n",
      "                   ('colRef',\n",
      "                    (pyarrow.Field<l_tax: double not null>,\n",
      "                     'tpch',\n",
      "                     'lineitem'))))]),\n",
      "               ('func',\n",
      "                'avg',\n",
      "                [('colRef',\n",
      "                  (pyarrow.Field<l_quantity: double not null>,\n",
      "                   'tpch',\n",
      "                   'lineitem'))]),\n",
      "               ('func',\n",
      "                'avg',\n",
      "                [('colRef',\n",
      "                  (pyarrow.Field<l_extendedprice: double not null>,\n",
      "                   'tpch',\n",
      "                   'lineitem'))]),\n",
      "               ('func',\n",
      "                'avg',\n",
      "                [('colRef',\n",
      "                  (pyarrow.Field<l_discount: double not null>,\n",
      "                   'tpch',\n",
      "                   'lineitem'))]),\n",
      "               ('func', 'count', '*')],\n",
      " 'group': [('group_expr',\n",
      "            ('colRef',\n",
      "             (pyarrow.Field<l_returnflag: string not null>,\n",
      "              'tpch',\n",
      "              'lineitem'))),\n",
      "           ('group_expr',\n",
      "            ('colRef',\n",
      "             (pyarrow.Field<l_linestatus: string not null>,\n",
      "              'tpch',\n",
      "              'lineitem')))],\n",
      " 'order': [('order_expr',\n",
      "            ('colRef',\n",
      "             (pyarrow.Field<l_returnflag: string not null>,\n",
      "              'tpch',\n",
      "              'lineitem')),\n",
      "            <SortByDir.SORTBY_DEFAULT: 0>),\n",
      "           ('order_expr',\n",
      "            ('colRef',\n",
      "             (pyarrow.Field<l_linestatus: string not null>,\n",
      "              'tpch',\n",
      "              'lineitem')),\n",
      "            <SortByDir.SORTBY_DEFAULT: 0>)],\n",
      " 'output': [('output_expr',\n",
      "             'l_returnflag',\n",
      "             ('colRef',\n",
      "              (pyarrow.Field<l_returnflag: string not null>,\n",
      "               'tpch',\n",
      "               'lineitem'))),\n",
      "            ('output_expr',\n",
      "             'l_linestatus',\n",
      "             ('colRef',\n",
      "              (pyarrow.Field<l_linestatus: string not null>,\n",
      "               'tpch',\n",
      "               'lineitem'))),\n",
      "            ('output_expr', 'sum_qty', ('func_result_ref', 0)),\n",
      "            ('output_expr', 'sum_base_price', ('func_result_ref', 1)),\n",
      "            ('output_expr', 'sum_disc_price', ('func_result_ref', 2)),\n",
      "            ('output_expr', 'sum_charge', ('func_result_ref', 3)),\n",
      "            ('output_expr', 'avg_qty', ('func_result_ref', 4)),\n",
      "            ('output_expr', 'avg_price', ('func_result_ref', 5)),\n",
      "            ('output_expr', 'avg_disc', ('func_result_ref', 6)),\n",
      "            ('output_expr', 'count_order', ('func_result_ref', 7))],\n",
      " 'project': [('project_expr', 'l_returnflag'),\n",
      "             ('project_expr', 'l_linestatus'),\n",
      "             ('project_expr', 'sum_qty'),\n",
      "             ('project_expr', 'sum_base_price'),\n",
      "             ('project_expr', 'sum_disc_price'),\n",
      "             ('project_expr', 'sum_charge'),\n",
      "             ('project_expr', 'avg_qty'),\n",
      "             ('project_expr', 'avg_price'),\n",
      "             ('project_expr', 'avg_disc'),\n",
      "             ('project_expr', 'count_order')],\n",
      " 'relations': ['singleRelation',\n",
      "               {'lineitem': ['table',\n",
      "                             'tpch',\n",
      "                             'lineitem',\n",
      "                             'lineitem',\n",
      "                             l_orderkey: int64 not null\n",
      "l_partkey: int32 not null\n",
      "l_suppkey: int32 not null\n",
      "l_linenumber: int32 not null\n",
      "l_quantity: double not null\n",
      "l_extendedprice: double not null\n",
      "l_discount: double not null\n",
      "l_tax: double not null\n",
      "l_returnflag: string not null\n",
      "l_linestatus: string not null\n",
      "l_shipdate: date32[day] not null\n",
      "l_commitdate: date32[day] not null\n",
      "l_receiptdate: date32[day] not null\n",
      "l_shipinstruct: string not null\n",
      "l_shipmode: string not null\n",
      "l_comment: string not null\n",
      "-- schema metadata --\n",
      "name: 'lineitem'\n",
      "delimiter: '|'\n",
      "path: '../mo-test/tpch100M/lineitem.tbl']}],\n",
      " 'where': ('<=',\n",
      "           ('colRef',\n",
      "            (pyarrow.Field<l_shipdate: date32[day] not null>,\n",
      "             'tpch',\n",
      "             'lineitem')),\n",
      "           ('-',\n",
      "            ('cast',\n",
      "             ('const', False, <String sval='1998-12-01'>),\n",
      "             (<String sval='date'>,)),\n",
      "            ('cast',\n",
      "             ('const', False, <String sval='112'>),\n",
      "             (<String sval='pg_catalog'>, <String sval='interval'>))))}\n"
     ]
    }
   ],
   "source": [
    "plan = {}\n",
    "selBuilder = SelectBuilder()\n",
    "selBuilder.build(q1Stmt.stmt,plan)\n",
    "pprint(plan)"
   ],
   "metadata": {
    "collapsed": false
   }
  },
  {
   "cell_type": "markdown",
   "source": [
    "\n",
    "## 执行tpch q1物理计划"
   ],
   "metadata": {
    "collapsed": false
   }
  },
  {
   "cell_type": "code",
   "execution_count": 531,
   "outputs": [
    {
     "name": "stdout",
     "output_type": "stream",
     "text": [
      "  l_returnflag l_linestatus    sum_qty  sum_base_price  sum_disc_price  \\\n",
      "0            A            F  3774200.0    5.320754e+09    5.054096e+09   \n",
      "1            N            F    95257.0    1.337378e+08    1.271324e+08   \n",
      "2            N            O  7338617.0    1.034164e+10    9.824174e+09   \n",
      "3            R            F  3785523.0    5.337951e+09    5.071819e+09   \n",
      "\n",
      "     sum_charge    avg_qty     avg_price  avg_disc  count_order  \n",
      "0  5.256751e+09  25.537587  36002.123829  0.050145       147790  \n",
      "1  1.322863e+08  25.300664  35521.326916  0.049394         3765  \n",
      "2  1.021700e+10  25.547128  36001.234322  0.050099       287258  \n",
      "3  5.274406e+09  25.525944  35994.029214  0.049989       148301  \n"
     ]
    }
   ],
   "source": [
    "pplan_builder = PhysicalPlanBuilder()\n",
    "exec = pplan_builder.build(plan,PROJECT)\n",
    "exec.Open()\n",
    "records = exec.Next()\n",
    "# csv.write_csv(records,\"q1.csv\")\n",
    "pprint(records.to_pandas())\n"
   ],
   "metadata": {
    "collapsed": false
   }
  },
  {
   "cell_type": "code",
   "execution_count": 532,
   "outputs": [],
   "source": [
    "exec.Close()"
   ],
   "metadata": {
    "collapsed": false
   }
  }
 ],
 "metadata": {
  "kernelspec": {
   "display_name": "Python 3",
   "language": "python",
   "name": "python3"
  },
  "language_info": {
   "codemirror_mode": {
    "name": "ipython",
    "version": 2
   },
   "file_extension": ".py",
   "mimetype": "text/x-python",
   "name": "python",
   "nbconvert_exporter": "python",
   "pygments_lexer": "ipython2",
   "version": "2.7.6"
  }
 },
 "nbformat": 4,
 "nbformat_minor": 0
}
