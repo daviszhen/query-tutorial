{
 "cells": [
  {
   "cell_type": "markdown",
   "source": [
    "# sql语义分析\n",
    "## 了解arrow\n",
    "在讲解语义分析的过程中利用arrow的类型、接口进行演示。\n",
    "\n"
   ],
   "metadata": {
    "collapsed": false
   }
  },
  {
   "cell_type": "markdown",
   "source": [
    "## 基础数据结构\n",
    "构建过程中的用到的数据结构。\n",
    "- scope 和 env\n",
    "- logicalPlan/substrait\n",
    "\n",
    "## 语义分析\n",
    "select语句各个部分的bind方法。\n",
    "\n",
    "- 列引用的可见范围\n",
    "- 聚合函数\n",
    "- 分组\n",
    "- 表达式\n",
    "\n",
    "## 子查询\n",
    "\n",
    "## CTE\n",
    "\n",
    "## 产生逻辑计划\n",
    "### tableScan\n",
    "\n",
    "### join\n",
    "\n",
    "### 聚合\n",
    "\n",
    "### filter\n",
    "\n",
    "### project\n",
    "\n",
    "## 优化器\n",
    "### 框架\n",
    "### 数据结构\n",
    "### 优化器规则"
   ],
   "metadata": {
    "collapsed": false
   }
  },
  {
   "cell_type": "markdown",
   "source": [
    "# 取 tpch q1 ast"
   ],
   "metadata": {
    "collapsed": false
   }
  },
  {
   "cell_type": "code",
   "execution_count": 450,
   "outputs": [],
   "source": [
    "from pglast import ast,parser,visitors,printers,enums\n",
    "from pprint import pprint"
   ],
   "metadata": {
    "collapsed": false,
    "pycharm": {
     "name": "#%%\n"
    }
   }
  },
  {
   "cell_type": "code",
   "source": [
    "q1Stmt = parser.parse_sql(\n",
    "    \"select \\\n",
    "        l_returnflag, \\\n",
    "        l_linestatus, \\\n",
    "        sum(l_quantity) as sum_qty, \\\n",
    "        sum(l_extendedprice) as sum_base_price, \\\n",
    "        sum(l_extendedprice * (1 - l_discount)) as sum_disc_price, \\\n",
    "        sum(l_extendedprice * (1 - l_discount) * (1 + l_tax)) as sum_charge, \\\n",
    "        avg(l_quantity) as avg_qty, \\\n",
    "        avg(l_extendedprice) as avg_price, \\\n",
    "        avg(l_discount) as avg_disc, \\\n",
    "        count(*) as count_order \\\n",
    "    from \\\n",
    "        lineitem \\\n",
    "    where \\\n",
    "        l_shipdate <= date '1998-12-01' - interval ':1' day \\\n",
    "    group by \\\n",
    "        l_returnflag, \\\n",
    "        l_linestatus \\\n",
    "    order by \\\n",
    "        l_returnflag, \\\n",
    "        l_linestatus;\"\n",
    ")[0]"
   ],
   "metadata": {
    "collapsed": false,
    "pycharm": {
     "name": "#%%\n"
    }
   },
   "execution_count": 451,
   "outputs": []
  },
  {
   "cell_type": "code",
   "execution_count": 452,
   "outputs": [],
   "source": [
    "#q1Stmt"
   ],
   "metadata": {
    "collapsed": false,
    "pycharm": {
     "name": "#%%\n"
    }
   }
  },
  {
   "cell_type": "markdown",
   "source": [
    "# 表lineitem的schema"
   ],
   "metadata": {
    "collapsed": false
   }
  },
  {
   "cell_type": "code",
   "execution_count": 453,
   "outputs": [],
   "source": [
    "import pyarrow as arrow"
   ],
   "metadata": {
    "collapsed": false,
    "pycharm": {
     "name": "#%%\n"
    }
   }
  },
  {
   "cell_type": "code",
   "execution_count": 454,
   "outputs": [],
   "source": [
    "# create table lineitem ( l_orderkey    bigint not null,\n",
    "#                              l_partkey     integer not null,\n",
    "#                              l_suppkey     integer not null,\n",
    "#                              l_linenumber  integer not null,\n",
    "#                              l_quantity    decimal(15,2) not null,\n",
    "#                              l_extendedprice  decimal(15,2) not null,\n",
    "#                              l_discount    decimal(15,2) not null,\n",
    "#                              l_tax         decimal(15,2) not null,\n",
    "#                              l_returnflag  varchar(1) not null,\n",
    "#                              l_linestatus  varchar(1) not null,\n",
    "#                              l_shipdate    date not null,\n",
    "#                              l_commitdate  date not null,\n",
    "#                              l_receiptdate date not null,\n",
    "#                              l_shipinstruct varchar(25) /*char(25)*/ not null,\n",
    "#                              l_shipmode     varchar(10) /*char(10)*/ not null,\n",
    "#                              l_comment      varchar(44) not null,\n",
    "#                          primary key (l_orderkey, l_linenumber)\n",
    "#                         );"
   ],
   "metadata": {
    "collapsed": false,
    "pycharm": {
     "name": "#%%\n"
    }
   }
  },
  {
   "cell_type": "code",
   "execution_count": 455,
   "outputs": [],
   "source": [
    "lineitemSchema = arrow.schema([\n",
    "    arrow.field(\"l_orderkey\",arrow.int64(),False),\n",
    "    arrow.field(\"l_partkey\",arrow.int32(),False),\n",
    "    arrow.field(\"l_suppkey\",arrow.int32(),False),\n",
    "    arrow.field(\"l_linenumber\",arrow.int32(),False),\n",
    "    arrow.field(\"l_quantity\",arrow.decimal128(15,2),False),\n",
    "    arrow.field(\"l_extendedprice\",arrow.decimal128(15,2),False),\n",
    "    arrow.field(\"l_discount\",arrow.decimal128(15,2),False),\n",
    "    arrow.field(\"l_tax\",arrow.decimal128(15,2),False),\n",
    "    arrow.field(\"l_returnflag\",arrow.utf8(),False),\n",
    "    arrow.field(\"l_linestatus\",arrow.utf8(),False),\n",
    "    arrow.field(\"l_shipdate\",arrow.date32(),False),\n",
    "    arrow.field(\"l_commitdate\",arrow.date32(),False),\n",
    "    arrow.field(\"l_receiptdate\",arrow.date32(),False),\n",
    "    arrow.field(\"l_shipinstruct\",arrow.utf8(),False),\n",
    "    arrow.field(\"l_shipmode\",arrow.utf8(),False),\n",
    "    arrow.field(\"l_comment\",arrow.utf8(),False),\n",
    "])\n",
    "# lineitemSchema"
   ],
   "metadata": {
    "collapsed": false,
    "pycharm": {
     "name": "#%%\n"
    }
   }
  },
  {
   "cell_type": "code",
   "execution_count": 456,
   "outputs": [
    {
     "data": {
      "text/plain": "{'tpch': {'lineitem': l_orderkey: int64 not null\nl_partkey: int32 not null\nl_suppkey: int32 not null\nl_linenumber: int32 not null\nl_quantity: decimal128(15, 2) not null\nl_extendedprice: decimal128(15, 2) not null\nl_discount: decimal128(15, 2) not null\nl_tax: decimal128(15, 2) not null\nl_returnflag: string not null\nl_linestatus: string not null\nl_shipdate: date32[day] not null\nl_commitdate: date32[day] not null\nl_receiptdate: date32[day] not null\nl_shipinstruct: string not null\nl_shipmode: string not null\nl_comment: string not null}}"
     },
     "execution_count": 456,
     "metadata": {},
     "output_type": "execute_result"
    }
   ],
   "source": [
    "Catalog = {\n",
    "    \"tpch\":{\n",
    "        \"lineitem\":lineitemSchema\n",
    "    }\n",
    "}\n",
    "Catalog"
   ],
   "metadata": {
    "collapsed": false,
    "pycharm": {
     "name": "#%%\n"
    }
   }
  },
  {
   "cell_type": "markdown",
   "source": [
    "# 构建tpch q1的逻辑查询计划"
   ],
   "metadata": {
    "collapsed": false
   }
  },
  {
   "cell_type": "markdown",
   "source": [
    "## 逻辑查询计划builder\n",
    "\n",
    "从各种SQL语句构建逻辑查询计划\n",
    "\n",
    "逻辑查询计划定义为字典类型。"
   ],
   "metadata": {
    "collapsed": false
   }
  },
  {
   "cell_type": "code",
   "execution_count": 457,
   "outputs": [],
   "source": [
    "RELATION_TYPE_TABLE = 0\n",
    "RELATION_TYPE_VIEW = 1\n",
    "RELATION_TYPE_SUBQUERY = 2\n",
    "\n",
    "class LogicalPlanBuilder:\n",
    "    def __init__(self):\n",
    "        pass\n",
    "\n",
    "    def build(self,node,plan : dict):\n",
    "        pass"
   ],
   "metadata": {
    "collapsed": false,
    "pycharm": {
     "name": "#%%\n"
    }
   }
  },
  {
   "cell_type": "markdown",
   "source": [
    "## select语句builder\n",
    "\n",
    "为select语句生成逻辑查询计划。"
   ],
   "metadata": {
    "collapsed": false
   }
  },
  {
   "cell_type": "code",
   "execution_count": 458,
   "outputs": [],
   "source": [
    "class SelectBuilder(LogicalPlanBuilder):\n",
    "    def __init__(self):\n",
    "        super().__init__()\n",
    "\n",
    "    def build(self,select : ast.SelectStmt,plan : dict):\n",
    "        fb = FromBuilder()\n",
    "        fb.build(select.fromClause,plan)\n",
    "\n",
    "        wb = WhereBuilder()\n",
    "        wb.build(select.whereClause,plan)\n",
    "        pass"
   ],
   "metadata": {
    "collapsed": false,
    "pycharm": {
     "name": "#%%\n"
    }
   }
  },
  {
   "cell_type": "markdown",
   "source": [
    "## from子句builder\n",
    "\n",
    "从from子句中提取各个关系表。"
   ],
   "metadata": {
    "collapsed": false
   }
  },
  {
   "cell_type": "code",
   "execution_count": 459,
   "outputs": [],
   "source": [
    "class FromBuilder(LogicalPlanBuilder):\n",
    "    def __init__(self):\n",
    "        super().__init__()\n",
    "    def build(self,tableRefs : tuple,plan : dict):\n",
    "        print(\"tableRefs\")\n",
    "        if len(tableRefs) == 1:\n",
    "            single = self.buildTableRef(tableRefs[0])\n",
    "            plan[\"relations\"] = {\"singleRelation\":single}\n",
    "            return\n",
    "        raise Exception(\"unsupport multiple table refs\")\n",
    "        pass\n",
    "\n",
    "    def buildTableRef(self,tableRef : ast.RangeVar)-> dict:\n",
    "        print(\"tableRef\")\n",
    "        dbName = tableRef.schemaname\n",
    "        if dbName is None:\n",
    "            dbName = \"tpch\"\n",
    "\n",
    "        #print(Catalog[dbName])\n",
    "        if tableRef.relname in Catalog[dbName] :\n",
    "            return {tableRef.relname :\n",
    "                    [\"relationRef\", #label. relation reference\n",
    "                    RELATION_TYPE_TABLE, #relation type\n",
    "                    dbName, #database name\n",
    "                    tableRef.relname,#alias=\n",
    "                    tableRef.relname,#original name\n",
    "                    Catalog[dbName][tableRef.relname] #schema\n",
    "                    ]}\n",
    "        else:\n",
    "            raise Exception(\"no such table in Catalog\",tableRef.schemaname,tableRef.relname)\n",
    "        pass"
   ],
   "metadata": {
    "collapsed": false,
    "pycharm": {
     "name": "#%%\n"
    }
   }
  },
  {
   "cell_type": "markdown",
   "source": [
    "## 表达式builder\n",
    "\n",
    "表达式构建基类。也是最复杂的类。"
   ],
   "metadata": {
    "collapsed": false
   }
  },
  {
   "cell_type": "code",
   "execution_count": 460,
   "outputs": [],
   "source": [
    "class ExpressionBuilder(LogicalPlanBuilder):\n",
    "    def __init__(self):\n",
    "        super().__init__()\n",
    "\n",
    "    def build(self,node,plan : dict):\n",
    "        if isinstance(node,ast.A_Expr):\n",
    "            if node.kind == enums.parsenodes.A_Expr_Kind.AEXPR_OP:\n",
    "                opName = node.name[0].sval\n",
    "                if opName == \"<=\":\n",
    "                    self.build(node.lexpr,plan)\n",
    "                    self.build(node.rexpr,plan)\n",
    "                elif opName == \"-\":\n",
    "                    self.build(node.lexpr,plan)\n",
    "                    self.build(node.rexpr,plan)\n",
    "                else:\n",
    "                    raise Exception(\"unsupported operator\",node)\n",
    "            else:\n",
    "                raise Exception(\"unsupported expr 1\",node)\n",
    "        elif isinstance(node,ast.ColumnRef):\n",
    "            fields = node.fields\n",
    "            if len(fields) == 1:\n",
    "                colName = fields[0].sval\n",
    "                print(\"==\",colName)\n",
    "            raise Exception(\"unsupported column ref\",node)\n",
    "        elif isinstance(node,ast.TypeCast):\n",
    "            raise Exception(\"unsupported typeCast\",node)\n",
    "        elif isinstance(node,ast.A_Const):\n",
    "            raise Exception(\"unsupported const\",node)\n",
    "        else:\n",
    "            raise Exception(\"unsupported expr 2\",node)\n",
    "        pass"
   ],
   "metadata": {
    "collapsed": false,
    "pycharm": {
     "name": "#%%\n"
    }
   }
  },
  {
   "cell_type": "markdown",
   "source": [
    "## where子句builder\n",
    "\n",
    "构建where表达式。"
   ],
   "metadata": {
    "collapsed": false
   }
  },
  {
   "cell_type": "code",
   "execution_count": 461,
   "outputs": [],
   "source": [
    "class WhereBuilder(LogicalPlanBuilder):\n",
    "    def __init__(self):\n",
    "        super().__init__()\n",
    "\n",
    "    def build(self,node,plan : dict):\n",
    "        print(\"where \",node)\n",
    "        eb = ExpressionBuilder()\n",
    "        eb.build(node,plan)\n",
    "        pass"
   ],
   "metadata": {
    "collapsed": false,
    "pycharm": {
     "name": "#%%\n"
    }
   }
  },
  {
   "cell_type": "code",
   "execution_count": 462,
   "outputs": [
    {
     "name": "stdout",
     "output_type": "stream",
     "text": [
      "tableRefs\n",
      "tableRef\n",
      "where  <A_Expr kind=<A_Expr_Kind.AEXPR_OP: 0> name=(<String sval='<='>,) lexpr=<ColumnRef fields=(<String sval='l_shipdate'>,)> rexpr=<A_Expr kind=<A_Expr_Kind.AEXPR_OP: 0> name=(<String sval='-'>,) lexpr=<TypeCast arg=<A_Const isnull=False val=<String sval='1998-12-01'>> typeName=<TypeName names=(<String sval='date'>,) setof=False pct_type=False typemod=-1>> rexpr=<TypeCast arg=<A_Const isnull=False val=<String sval=':1'>> typeName=<TypeName names=(<String sval='pg_catalog'>, <String sval='interval'>) setof=False pct_type=False typmods=(<A_Const isnull=False val=<Integer ival=8>>,) typemod=-1>>>>\n",
      "== l_shipdate\n"
     ]
    },
    {
     "ename": "Exception",
     "evalue": "('unsupported column ref', <ColumnRef fields=(<String sval='l_shipdate'>,)>)",
     "output_type": "error",
     "traceback": [
      "\u001B[0;31m---------------------------------------------------------------------------\u001B[0m",
      "\u001B[0;31mException\u001B[0m                                 Traceback (most recent call last)",
      "Cell \u001B[0;32mIn[462], line 3\u001B[0m\n\u001B[1;32m      1\u001B[0m plan \u001B[38;5;241m=\u001B[39m {}\n\u001B[1;32m      2\u001B[0m selBuilder \u001B[38;5;241m=\u001B[39m SelectBuilder()\n\u001B[0;32m----> 3\u001B[0m \u001B[43mselBuilder\u001B[49m\u001B[38;5;241;43m.\u001B[39;49m\u001B[43mbuild\u001B[49m\u001B[43m(\u001B[49m\u001B[43mq1Stmt\u001B[49m\u001B[38;5;241;43m.\u001B[39;49m\u001B[43mstmt\u001B[49m\u001B[43m,\u001B[49m\u001B[43mplan\u001B[49m\u001B[43m)\u001B[49m\n",
      "Cell \u001B[0;32mIn[458], line 10\u001B[0m, in \u001B[0;36mSelectBuilder.build\u001B[0;34m(self, select, plan)\u001B[0m\n\u001B[1;32m      7\u001B[0m fb\u001B[38;5;241m.\u001B[39mbuild(select\u001B[38;5;241m.\u001B[39mfromClause,plan)\n\u001B[1;32m      9\u001B[0m wb \u001B[38;5;241m=\u001B[39m WhereBuilder()\n\u001B[0;32m---> 10\u001B[0m \u001B[43mwb\u001B[49m\u001B[38;5;241;43m.\u001B[39;49m\u001B[43mbuild\u001B[49m\u001B[43m(\u001B[49m\u001B[43mselect\u001B[49m\u001B[38;5;241;43m.\u001B[39;49m\u001B[43mwhereClause\u001B[49m\u001B[43m,\u001B[49m\u001B[43mplan\u001B[49m\u001B[43m)\u001B[49m\n\u001B[1;32m     11\u001B[0m \u001B[38;5;28;01mpass\u001B[39;00m\n",
      "Cell \u001B[0;32mIn[461], line 8\u001B[0m, in \u001B[0;36mWhereBuilder.build\u001B[0;34m(self, node, plan)\u001B[0m\n\u001B[1;32m      6\u001B[0m \u001B[38;5;28mprint\u001B[39m(\u001B[38;5;124m\"\u001B[39m\u001B[38;5;124mwhere \u001B[39m\u001B[38;5;124m\"\u001B[39m,node)\n\u001B[1;32m      7\u001B[0m eb \u001B[38;5;241m=\u001B[39m ExpressionBuilder()\n\u001B[0;32m----> 8\u001B[0m \u001B[43meb\u001B[49m\u001B[38;5;241;43m.\u001B[39;49m\u001B[43mbuild\u001B[49m\u001B[43m(\u001B[49m\u001B[43mnode\u001B[49m\u001B[43m,\u001B[49m\u001B[43mplan\u001B[49m\u001B[43m)\u001B[49m\n\u001B[1;32m      9\u001B[0m \u001B[38;5;28;01mpass\u001B[39;00m\n",
      "Cell \u001B[0;32mIn[460], line 10\u001B[0m, in \u001B[0;36mExpressionBuilder.build\u001B[0;34m(self, node, plan)\u001B[0m\n\u001B[1;32m      8\u001B[0m opName \u001B[38;5;241m=\u001B[39m node\u001B[38;5;241m.\u001B[39mname[\u001B[38;5;241m0\u001B[39m]\u001B[38;5;241m.\u001B[39msval\n\u001B[1;32m      9\u001B[0m \u001B[38;5;28;01mif\u001B[39;00m opName \u001B[38;5;241m==\u001B[39m \u001B[38;5;124m\"\u001B[39m\u001B[38;5;124m<=\u001B[39m\u001B[38;5;124m\"\u001B[39m:\n\u001B[0;32m---> 10\u001B[0m     \u001B[38;5;28;43mself\u001B[39;49m\u001B[38;5;241;43m.\u001B[39;49m\u001B[43mbuild\u001B[49m\u001B[43m(\u001B[49m\u001B[43mnode\u001B[49m\u001B[38;5;241;43m.\u001B[39;49m\u001B[43mlexpr\u001B[49m\u001B[43m,\u001B[49m\u001B[43mplan\u001B[49m\u001B[43m)\u001B[49m\n\u001B[1;32m     11\u001B[0m     \u001B[38;5;28mself\u001B[39m\u001B[38;5;241m.\u001B[39mbuild(node\u001B[38;5;241m.\u001B[39mrexpr,plan)\n\u001B[1;32m     12\u001B[0m \u001B[38;5;28;01melif\u001B[39;00m opName \u001B[38;5;241m==\u001B[39m \u001B[38;5;124m\"\u001B[39m\u001B[38;5;124m-\u001B[39m\u001B[38;5;124m\"\u001B[39m:\n",
      "Cell \u001B[0;32mIn[460], line 24\u001B[0m, in \u001B[0;36mExpressionBuilder.build\u001B[0;34m(self, node, plan)\u001B[0m\n\u001B[1;32m     22\u001B[0m         colName \u001B[38;5;241m=\u001B[39m fields[\u001B[38;5;241m0\u001B[39m]\u001B[38;5;241m.\u001B[39msval\n\u001B[1;32m     23\u001B[0m         \u001B[38;5;28mprint\u001B[39m(\u001B[38;5;124m\"\u001B[39m\u001B[38;5;124m==\u001B[39m\u001B[38;5;124m\"\u001B[39m,colName)\n\u001B[0;32m---> 24\u001B[0m     \u001B[38;5;28;01mraise\u001B[39;00m \u001B[38;5;167;01mException\u001B[39;00m(\u001B[38;5;124m\"\u001B[39m\u001B[38;5;124munsupported column ref\u001B[39m\u001B[38;5;124m\"\u001B[39m,node)\n\u001B[1;32m     25\u001B[0m \u001B[38;5;28;01melif\u001B[39;00m \u001B[38;5;28misinstance\u001B[39m(node,ast\u001B[38;5;241m.\u001B[39mTypeCast):\n\u001B[1;32m     26\u001B[0m     \u001B[38;5;28;01mraise\u001B[39;00m \u001B[38;5;167;01mException\u001B[39;00m(\u001B[38;5;124m\"\u001B[39m\u001B[38;5;124munsupported typeCast\u001B[39m\u001B[38;5;124m\"\u001B[39m,node)\n",
      "\u001B[0;31mException\u001B[0m: ('unsupported column ref', <ColumnRef fields=(<String sval='l_shipdate'>,)>)"
     ]
    }
   ],
   "source": [
    "plan = {}\n",
    "selBuilder = SelectBuilder()\n",
    "selBuilder.build(q1Stmt.stmt,plan)"
   ],
   "metadata": {
    "collapsed": false,
    "pycharm": {
     "name": "#%%\n"
    }
   }
  },
  {
   "cell_type": "code",
   "execution_count": null,
   "outputs": [],
   "source": [],
   "metadata": {
    "collapsed": false,
    "pycharm": {
     "name": "#%%\n"
    }
   }
  },
  {
   "cell_type": "code",
   "execution_count": null,
   "outputs": [],
   "source": [],
   "metadata": {
    "collapsed": false,
    "pycharm": {
     "name": "#%%\n"
    }
   }
  }
 ],
 "metadata": {
  "kernelspec": {
   "display_name": "Python 3",
   "language": "python",
   "name": "python3"
  },
  "language_info": {
   "codemirror_mode": {
    "name": "ipython",
    "version": 2
   },
   "file_extension": ".py",
   "mimetype": "text/x-python",
   "name": "python",
   "nbconvert_exporter": "python",
   "pygments_lexer": "ipython2",
   "version": "2.7.6"
  }
 },
 "nbformat": 4,
 "nbformat_minor": 0
}