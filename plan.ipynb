{
 "cells": [
  {
   "cell_type": "markdown",
   "source": [
    "# import"
   ],
   "metadata": {
    "collapsed": false
   }
  },
  {
   "cell_type": "code",
   "execution_count": 309,
   "outputs": [],
   "source": [
    "from pglast import ast,parser,visitors,printers,enums\n",
    "from pprint import pprint\n",
    "import pyarrow as arrow\n",
    "from pyarrow import csv,compute,types\n",
    "import pandas\n",
    "from datetime import datetime,timedelta,date\n",
    "import hashlib"
   ],
   "metadata": {
    "collapsed": false,
    "pycharm": {
     "name": "#%%\n"
    }
   }
  },
  {
   "cell_type": "markdown",
   "source": [
    "# 取tpch q1 ast"
   ],
   "metadata": {
    "collapsed": false
   }
  },
  {
   "cell_type": "code",
   "source": [
    "q1Stmt = parser.parse_sql(\n",
    "    \"select \\\n",
    "        l_returnflag, \\\n",
    "        l_linestatus, \\\n",
    "        sum(l_quantity) as sum_qty, \\\n",
    "        sum(l_extendedprice) as sum_base_price, \\\n",
    "        sum(l_extendedprice * (1 - l_discount)) as sum_disc_price, \\\n",
    "        sum(l_extendedprice * (1 - l_discount) * (1 + l_tax)) as sum_charge, \\\n",
    "        avg(l_quantity) as avg_qty, \\\n",
    "        avg(l_extendedprice) as avg_price, \\\n",
    "        avg(l_discount) as avg_disc, \\\n",
    "        count(*) as count_order \\\n",
    "    from \\\n",
    "        lineitem \\\n",
    "    where \\\n",
    "        l_shipdate <= date '1998-12-01' - interval '112' day \\\n",
    "    group by \\\n",
    "        l_returnflag, \\\n",
    "        l_linestatus \\\n",
    "    order by \\\n",
    "        l_returnflag, \\\n",
    "        l_linestatus;\"\n",
    ")[0]"
   ],
   "metadata": {
    "collapsed": false,
    "pycharm": {
     "name": "#%%\n"
    }
   },
   "execution_count": 310,
   "outputs": []
  },
  {
   "cell_type": "code",
   "execution_count": 311,
   "outputs": [],
   "source": [
    "#q1Stmt"
   ],
   "metadata": {
    "collapsed": false,
    "pycharm": {
     "name": "#%%\n"
    }
   }
  },
  {
   "cell_type": "markdown",
   "source": [
    "# 表lineitem的schema"
   ],
   "metadata": {
    "collapsed": false
   }
  },
  {
   "cell_type": "code",
   "execution_count": 312,
   "outputs": [],
   "source": [
    "# create table lineitem ( l_orderkey    bigint not null,\n",
    "#                              l_partkey     integer not null,\n",
    "#                              l_suppkey     integer not null,\n",
    "#                              l_linenumber  integer not null,\n",
    "#                              l_quantity    decimal(15,2) not null,\n",
    "#                              l_extendedprice  decimal(15,2) not null,\n",
    "#                              l_discount    decimal(15,2) not null,\n",
    "#                              l_tax         decimal(15,2) not null,\n",
    "#                              l_returnflag  varchar(1) not null,\n",
    "#                              l_linestatus  varchar(1) not null,\n",
    "#                              l_shipdate    date not null,\n",
    "#                              l_commitdate  date not null,\n",
    "#                              l_receiptdate date not null,\n",
    "#                              l_shipinstruct varchar(25) /*char(25)*/ not null,\n",
    "#                              l_shipmode     varchar(10) /*char(10)*/ not null,\n",
    "#                              l_comment      varchar(44) not null,\n",
    "#                          primary key (l_orderkey, l_linenumber)\n",
    "#                         );"
   ],
   "metadata": {
    "collapsed": false,
    "pycharm": {
     "name": "#%%\n"
    }
   }
  },
  {
   "cell_type": "code",
   "execution_count": 313,
   "outputs": [],
   "source": [
    "lineitemSchema = arrow.schema([\n",
    "    arrow.field(\"l_orderkey\",arrow.int64(),False),\n",
    "    arrow.field(\"l_partkey\",arrow.int32(),False),\n",
    "    arrow.field(\"l_suppkey\",arrow.int32(),False),\n",
    "    arrow.field(\"l_linenumber\",arrow.int32(),False),\n",
    "    arrow.field(\"l_quantity\",arrow.decimal256(21,2),False),\n",
    "    arrow.field(\"l_extendedprice\",arrow.decimal256(21,2),False),\n",
    "    arrow.field(\"l_discount\",arrow.decimal256(21,2),False),\n",
    "    arrow.field(\"l_tax\",arrow.decimal256(21,2),False),\n",
    "    arrow.field(\"l_returnflag\",arrow.utf8(),False),\n",
    "    arrow.field(\"l_linestatus\",arrow.utf8(),False),\n",
    "    arrow.field(\"l_shipdate\",arrow.date32(),False),\n",
    "    arrow.field(\"l_commitdate\",arrow.date32(),False),\n",
    "    arrow.field(\"l_receiptdate\",arrow.date32(),False),\n",
    "    arrow.field(\"l_shipinstruct\",arrow.utf8(),False),\n",
    "    arrow.field(\"l_shipmode\",arrow.utf8(),False),\n",
    "    arrow.field(\"l_comment\",arrow.utf8(),False),\n",
    "],{\"name\":\"lineitem\",\n",
    "   \"delimiter\":\"|\",\n",
    "   \"path\":\"/Users/pengzhen/Documents/GitHub/mo-test/tpch100M/lineitem.tbl_10\"})\n",
    "# lineitemSchema"
   ],
   "metadata": {
    "collapsed": false,
    "pycharm": {
     "name": "#%%\n"
    }
   }
  },
  {
   "cell_type": "markdown",
   "source": [
    "# 常量"
   ],
   "metadata": {
    "collapsed": false
   }
  },
  {
   "cell_type": "code",
   "execution_count": 314,
   "outputs": [],
   "source": [
    "\n",
    "# logical plan 标签\n",
    "RELATIONS = \"relations\"\n",
    "SINGLE_RELATION = \"singleRelation\"\n",
    "MULTI_RELATION = \"multipleRelation\"\n",
    "WHERE = \"where\"\n",
    "OUTPUT = \"output\"\n",
    "GROUP = \"group\"\n",
    "ORDER = \"order\"\n",
    "AGGREGATE = \"aggregate\"\n",
    "\n",
    "RELATION_TYPE_IDX = 0\n",
    "DB_NAME_IDX = 1\n",
    "ALIAS_IDX = 2\n",
    "TABLE_NAME_IDX = 3\n",
    "SCHEMA_IDX = 4\n",
    "\n",
    "RELATION_TYPE_TABLE = \"table\"\n",
    "RELATION_TYPE_VIEW = \"view\"\n",
    "RELATION_TYPE_SUBQUERY = \"subquery\"\n",
    "\n",
    "EXPR_OP_COLUMN_REF = \"colRef\"\n",
    "EXPR_OP_LESS_EQUAL = \"<=\"\n",
    "EXPR_OP_PLUS = \"+\"\n",
    "EXPR_OP_MINUS = \"-\"\n",
    "EXPR_OP_MULTI = \"*\"\n",
    "EXPR_OP_CAST = \"cast\"\n",
    "EXPR_OP_CONST = \"const\"\n",
    "\n",
    "FUNC_EXPR = \"func\"\n",
    "FUNC_RESULT_REF_EXPR = \"func_result_ref\"\n",
    "OUTPUT_EXPR = \"output_expr\"\n",
    "GROUP_EXPR = \"group_expr\"\n",
    "ORDER_EXPR = \"order_expr\""
   ],
   "metadata": {
    "collapsed": false,
    "pycharm": {
     "name": "#%%\n"
    }
   }
  },
  {
   "cell_type": "markdown",
   "source": [
    "# 取schema"
   ],
   "metadata": {
    "collapsed": false
   }
  },
  {
   "cell_type": "code",
   "execution_count": 315,
   "outputs": [
    {
     "data": {
      "text/plain": "{'tpch': {'lineitem': l_orderkey: int64 not null\n  l_partkey: int32 not null\n  l_suppkey: int32 not null\n  l_linenumber: int32 not null\n  l_quantity: decimal256(21, 2) not null\n  l_extendedprice: decimal256(21, 2) not null\n  l_discount: decimal256(21, 2) not null\n  l_tax: decimal256(21, 2) not null\n  l_returnflag: string not null\n  l_linestatus: string not null\n  l_shipdate: date32[day] not null\n  l_commitdate: date32[day] not null\n  l_receiptdate: date32[day] not null\n  l_shipinstruct: string not null\n  l_shipmode: string not null\n  l_comment: string not null\n  -- schema metadata --\n  name: 'lineitem'\n  delimiter: '|'\n  path: '/Users/pengzhen/Documents/GitHub/mo-test/tpch100M/lineitem.tbl_10'}}"
     },
     "execution_count": 315,
     "metadata": {},
     "output_type": "execute_result"
    }
   ],
   "source": [
    "Catalog = {\n",
    "    \"tpch\":{\n",
    "        \"lineitem\":lineitemSchema\n",
    "    }\n",
    "}\n",
    "\n",
    "def isValidName(s):\n",
    "    return not (s is None or len(s) == 0)\n",
    "\n",
    "\n",
    "def getColumn(plan,dbName,tableName,colName):\n",
    "    '''\n",
    "    取列定义\n",
    "    :param plan:\n",
    "    :param dbName:\n",
    "    :param tableName:\n",
    "    :param colName:\n",
    "    :return:\n",
    "    '''\n",
    "    relations = plan.get(RELATIONS,None)\n",
    "    if relations is None:\n",
    "        raise Exception(\"no table defs\")\n",
    "\n",
    "    if len(dbName) == 0:\n",
    "        dbName = \"tpch\"\n",
    "\n",
    "    if relations[0] == SINGLE_RELATION:\n",
    "        single = relations[1]\n",
    "        if len(tableName) == 0:\n",
    "            #print(f\"single {single}\")\n",
    "            for tableName2,tableDef in single.items():\n",
    "                schema = tableDef[SCHEMA_IDX]\n",
    "                colDef = schema.field(colName)\n",
    "                if colDef is not None:\n",
    "                    return colDef,dbName,tableName2\n",
    "            raise Exception(f\"no column name {colName} in table {tableName}\")\n",
    "\n",
    "        if tableName in single:\n",
    "            tableDef = single[tableName]\n",
    "            if tableDef[DB_NAME_IDX] == dbName and tableDef[ALIAS_IDX] == tableName:\n",
    "                schema = tableDef[SCHEMA_IDX]\n",
    "                colDef = schema.field(colName)\n",
    "                if colDef is not None:\n",
    "                    return colDef,dbName,tableName\n",
    "                else:\n",
    "                    raise Exception(f\"no column name {colName} in table {tableName}\")\n",
    "            else:\n",
    "                raise Exception(f\"invalid database name {dbName} or table name {tableName}\")\n",
    "        else:\n",
    "            raise Exception(f\"no such relation {tableName} in database {dbName}\")\n",
    "    else:\n",
    "        raise Exception(\"not implement multiple relations\")\n",
    "\n",
    "\n",
    "\n",
    "Catalog"
   ],
   "metadata": {
    "collapsed": false,
    "pycharm": {
     "name": "#%%\n"
    }
   }
  },
  {
   "cell_type": "markdown",
   "source": [
    "# 构建tpch q1的逻辑查询计划"
   ],
   "metadata": {
    "collapsed": false
   }
  },
  {
   "cell_type": "markdown",
   "source": [
    "## 逻辑查询计划builder\n",
    "\n",
    "从各种SQL语句构建逻辑查询计划\n",
    "\n",
    "逻辑查询计划定义为字典类型。"
   ],
   "metadata": {
    "collapsed": false
   }
  },
  {
   "cell_type": "code",
   "execution_count": 316,
   "outputs": [],
   "source": [
    "class LogicalPlanBuilder:\n",
    "    def __init__(self):\n",
    "        pass\n",
    "\n",
    "    def build(self,node,plan : dict):\n",
    "        pass"
   ],
   "metadata": {
    "collapsed": false,
    "pycharm": {
     "name": "#%%\n"
    }
   }
  },
  {
   "cell_type": "markdown",
   "source": [
    "## select语句builder\n",
    "\n",
    "为select语句生成逻辑查询计划。"
   ],
   "metadata": {
    "collapsed": false
   }
  },
  {
   "cell_type": "code",
   "execution_count": 317,
   "outputs": [],
   "source": [
    "class SelectBuilder(LogicalPlanBuilder):\n",
    "    def __init__(self):\n",
    "        super().__init__()\n",
    "\n",
    "    def build(self,select : ast.SelectStmt,plan : dict):\n",
    "        fb = FromBuilder()\n",
    "        fb.build(select.fromClause,plan)\n",
    "\n",
    "        wb = WhereBuilder()\n",
    "        wb.build(select.whereClause,plan)\n",
    "\n",
    "        selectList = SelectListBuilder()\n",
    "        selectList.build(select.targetList,plan)\n",
    "\n",
    "        groupby = GroupbyBuilder()\n",
    "        groupby.build(select.groupClause,plan)\n",
    "\n",
    "        orderby = OrderbyBuilder()\n",
    "        orderby.build(select.sortClause,plan)\n",
    "        pass"
   ],
   "metadata": {
    "collapsed": false,
    "pycharm": {
     "name": "#%%\n"
    }
   }
  },
  {
   "cell_type": "markdown",
   "source": [
    "## from子句builder\n",
    "\n",
    "从from子句中提取各个关系表。"
   ],
   "metadata": {
    "collapsed": false
   }
  },
  {
   "cell_type": "code",
   "execution_count": 318,
   "outputs": [],
   "source": [
    "class FromBuilder(LogicalPlanBuilder):\n",
    "    def __init__(self):\n",
    "        super().__init__()\n",
    "    def build(self,tableRefs : tuple,plan : dict):\n",
    "        #print(\"tableRefs\")\n",
    "        if len(tableRefs) == 1:\n",
    "            single = self.buildTableRef(tableRefs[0])\n",
    "            plan[RELATIONS] = [SINGLE_RELATION,single]\n",
    "            return\n",
    "        raise Exception(\"unsupport multiple table refs\")\n",
    "        pass\n",
    "\n",
    "    def buildTableRef(self,tableRef : ast.RangeVar)-> dict:\n",
    "        #print(\"tableRef\")\n",
    "        dbName = tableRef.schemaname\n",
    "        if dbName is None or len(dbName) == 0:\n",
    "            dbName = \"tpch\"\n",
    "\n",
    "        #print(Catalog[dbName])\n",
    "        if tableRef.relname in Catalog[dbName] :\n",
    "            return {tableRef.relname :\n",
    "                    [RELATION_TYPE_TABLE, #relation type\n",
    "                    dbName, #database name\n",
    "                    tableRef.relname,#alias=\n",
    "                    tableRef.relname,#original name\n",
    "                    Catalog[dbName][tableRef.relname] #schema\n",
    "                    ]}\n",
    "        else:\n",
    "            raise Exception(\"no such table in Catalog\",tableRef.schemaname,tableRef.relname)\n",
    "        pass"
   ],
   "metadata": {
    "collapsed": false,
    "pycharm": {
     "name": "#%%\n"
    }
   }
  },
  {
   "cell_type": "markdown",
   "source": [
    "## 表达式builder\n",
    "\n",
    "表达式构建基类。也是最复杂的类。"
   ],
   "metadata": {
    "collapsed": false
   }
  },
  {
   "cell_type": "code",
   "execution_count": 319,
   "outputs": [],
   "source": [
    "class ExpressionBuilder(LogicalPlanBuilder):\n",
    "    def __init__(self):\n",
    "        super().__init__()\n",
    "\n",
    "    def build(self,node,plan : dict):\n",
    "        if isinstance(node,ast.A_Expr):\n",
    "            if node.kind == enums.parsenodes.A_Expr_Kind.AEXPR_OP:\n",
    "                opName = node.name[0].sval\n",
    "                if opName == \"<=\":\n",
    "                    l = self.build(node.lexpr,plan)\n",
    "                    r = self.build(node.rexpr,plan)\n",
    "                    return EXPR_OP_LESS_EQUAL,l,r\n",
    "                elif opName == \"-\":\n",
    "                    l = self.build(node.lexpr,plan)\n",
    "                    r = self.build(node.rexpr,plan)\n",
    "                    return EXPR_OP_MINUS,l,r\n",
    "                elif opName == \"*\":\n",
    "                    l = self.build(node.lexpr,plan)\n",
    "                    r = self.build(node.rexpr,plan)\n",
    "                    return EXPR_OP_MULTI,l,r\n",
    "                elif opName == \"+\":\n",
    "                    l = self.build(node.lexpr,plan)\n",
    "                    r = self.build(node.rexpr,plan)\n",
    "                    return EXPR_OP_PLUS,l,r\n",
    "                else:\n",
    "                    raise Exception(\"unsupported operator\",node)\n",
    "            else:\n",
    "                raise Exception(\"unsupported expr 1\",node)\n",
    "        elif isinstance(node,ast.ColumnRef):\n",
    "            fields = node.fields\n",
    "            if len(fields) == 1:\n",
    "                colName = fields[0].sval\n",
    "                #print(f\"{fields}, {colName}\")\n",
    "                colRef = getColumn(plan,\"\",\"\",colName)\n",
    "                return EXPR_OP_COLUMN_REF, colRef\n",
    "            raise Exception(\"unsupported column ref\",node)\n",
    "        elif isinstance(node,ast.TypeCast):\n",
    "            #print(f\"type_cast {node.arg} \\nto_type {node.typeName}\")\n",
    "\n",
    "            e = self.build(node.arg,plan)\n",
    "            t = node.typeName.names\n",
    "            return EXPR_OP_CAST,e,t\n",
    "        elif isinstance(node,ast.A_Const):\n",
    "            if node.isnull:\n",
    "                return EXPR_OP_CONST,node.isnull\n",
    "            return EXPR_OP_CONST,node.isnull,node.val\n",
    "        elif isinstance(node,ast.FuncCall):\n",
    "            # pprint(node)\n",
    "            func_name = node.funcname[0].sval\n",
    "            is_agg_func = False\n",
    "            if is_aggregate_func(func_name):\n",
    "                is_agg_func = True\n",
    "            args = None\n",
    "            if node.args is not None:\n",
    "                args = []\n",
    "                for arg in node.args:\n",
    "                    arg_e = self.build(arg,plan)\n",
    "                    args.append(arg_e)\n",
    "            elif node.agg_star:\n",
    "                args = \"*\"\n",
    "            else:\n",
    "                raise Exception(\"function has no args\",node)\n",
    "            if is_agg_func:\n",
    "                # print(f\"agg func {func_name}\")\n",
    "                aggs = plan.get(AGGREGATE,[])\n",
    "                agg_idx = len(aggs)\n",
    "                aggs.append((FUNC_EXPR,func_name,args))\n",
    "                plan[AGGREGATE] = aggs\n",
    "                return FUNC_RESULT_REF_EXPR,agg_idx\n",
    "            return FUNC_EXPR,func_name,args\n",
    "        else:\n",
    "            raise Exception(\"unsupported expr 2\",node)\n",
    "        pass\n",
    "\n",
    "\n",
    "def is_aggregate_func(name):\n",
    "    return name in [\"count\",\"avg\",\"sum\"]"
   ],
   "metadata": {
    "collapsed": false,
    "pycharm": {
     "name": "#%%\n"
    }
   }
  },
  {
   "cell_type": "markdown",
   "source": [
    "## where子句builder\n",
    "\n",
    "构建where表达式。"
   ],
   "metadata": {
    "collapsed": false
   }
  },
  {
   "cell_type": "code",
   "execution_count": 320,
   "outputs": [],
   "source": [
    "class WhereBuilder(LogicalPlanBuilder):\n",
    "    def __init__(self):\n",
    "        super().__init__()\n",
    "\n",
    "    def build(self,node,plan : dict):\n",
    "        #print(\"where \",node)\n",
    "        eb = ExpressionBuilder()\n",
    "        ret = eb.build(node,plan)\n",
    "        plan[WHERE] = ret"
   ],
   "metadata": {
    "collapsed": false,
    "pycharm": {
     "name": "#%%\n"
    }
   }
  },
  {
   "cell_type": "markdown",
   "source": [
    "## select expr builder"
   ],
   "metadata": {
    "collapsed": false
   }
  },
  {
   "cell_type": "code",
   "execution_count": 321,
   "outputs": [],
   "source": [
    "class SelectExprBuilder(ExpressionBuilder):\n",
    "    def __init__(self):\n",
    "        super().__init__()\n",
    "\n",
    "    def build(self,node,plan : dict):\n",
    "        if isinstance(node,ast.ResTarget):\n",
    "            value = node.val\n",
    "            if isinstance(value,ast.ColumnRef):\n",
    "                r = super().build(value,plan)\n",
    "                #print(f\"-->{r}\")\n",
    "                alias = node.name\n",
    "                if not isValidName(alias):\n",
    "                    #取列名\n",
    "                    alias = r[1][0].name\n",
    "                return OUTPUT_EXPR, alias, r\n",
    "            elif isinstance(value,ast.FuncCall):\n",
    "                r = super().build(value,plan)\n",
    "                alias = node.name\n",
    "                if not isValidName(alias):\n",
    "                    #取表达式字符串\n",
    "                    alias = str(value)\n",
    "                return OUTPUT_EXPR,alias,r\n",
    "            else:\n",
    "                return super().build(value,plan)\n",
    "        else:\n",
    "            return super().build(node,plan)\n"
   ],
   "metadata": {
    "collapsed": false,
    "pycharm": {
     "name": "#%%\n"
    }
   }
  },
  {
   "cell_type": "markdown",
   "source": [
    "## select list builder"
   ],
   "metadata": {
    "collapsed": false
   }
  },
  {
   "cell_type": "code",
   "execution_count": 322,
   "outputs": [],
   "source": [
    "\n",
    "class SelectListBuilder(LogicalPlanBuilder):\n",
    "    def __init__(self):\n",
    "        super().__init__()\n",
    "\n",
    "    def build(self,node,plan : dict):\n",
    "        #print(\"select list\",node)\n",
    "        #pprint(node)\n",
    "        selExprBuilder = SelectExprBuilder()\n",
    "        output = []\n",
    "        for expr in node:\n",
    "            #pprint(expr)\n",
    "            o = selExprBuilder.build(expr,plan)\n",
    "            output.append(o)\n",
    "        plan[OUTPUT] = output"
   ],
   "metadata": {
    "collapsed": false,
    "pycharm": {
     "name": "#%%\n"
    }
   }
  },
  {
   "cell_type": "markdown",
   "source": [
    "## group expr builder"
   ],
   "metadata": {
    "collapsed": false
   }
  },
  {
   "cell_type": "code",
   "execution_count": 323,
   "outputs": [],
   "source": [
    "class GroupExprBuilder(ExpressionBuilder):\n",
    "    def __init__(self):\n",
    "        super().__init__()\n",
    "\n",
    "    def build(self,node,plan : dict):\n",
    "        r = super().build(node,plan)\n",
    "        return GROUP_EXPR,r"
   ],
   "metadata": {
    "collapsed": false,
    "pycharm": {
     "name": "#%%\n"
    }
   }
  },
  {
   "cell_type": "markdown",
   "source": [
    "## group by子句builder"
   ],
   "metadata": {
    "collapsed": false
   }
  },
  {
   "cell_type": "code",
   "execution_count": 324,
   "outputs": [],
   "source": [
    "class GroupbyBuilder(LogicalPlanBuilder):\n",
    "    def __init__(self):\n",
    "        super().__init__()\n",
    "\n",
    "    def build(self,node,plan : dict):\n",
    "        geb = GroupExprBuilder()\n",
    "        groupby = []\n",
    "        for expr in node:\n",
    "            r = geb.build(expr,plan)\n",
    "            groupby.append(r)\n",
    "        plan[GROUP] = groupby\n",
    "        pass"
   ],
   "metadata": {
    "collapsed": false,
    "pycharm": {
     "name": "#%%\n"
    }
   }
  },
  {
   "cell_type": "markdown",
   "source": [
    "## order expr builder"
   ],
   "metadata": {
    "collapsed": false
   }
  },
  {
   "cell_type": "code",
   "execution_count": 325,
   "outputs": [],
   "source": [
    "class OrderExprBuilder(ExpressionBuilder):\n",
    "    def __init__(self):\n",
    "        super().__init__()\n",
    "\n",
    "    def build(self,node,plan : dict):\n",
    "        if isinstance(node,ast.SortBy):\n",
    "            r = super().build(node.node,plan)\n",
    "            return ORDER_EXPR,r,node.sortby_dir\n",
    "        else:\n",
    "            raise Exception(f\"not implement order expr {node}\")"
   ],
   "metadata": {
    "collapsed": false,
    "pycharm": {
     "name": "#%%\n"
    }
   }
  },
  {
   "cell_type": "markdown",
   "source": [
    "## order by builder"
   ],
   "metadata": {
    "collapsed": false
   }
  },
  {
   "cell_type": "code",
   "execution_count": 326,
   "outputs": [],
   "source": [
    "class OrderbyBuilder(LogicalPlanBuilder):\n",
    "    def __init__(self):\n",
    "        super().__init__()\n",
    "\n",
    "    def build(self,node,plan : dict):\n",
    "        oeb = OrderExprBuilder()\n",
    "        orderby = []\n",
    "        for expr in node:\n",
    "            r = oeb.build(expr,plan)\n",
    "            orderby.append(r)\n",
    "        plan[ORDER] = orderby\n",
    "        pass"
   ],
   "metadata": {
    "collapsed": false,
    "pycharm": {
     "name": "#%%\n"
    }
   }
  },
  {
   "cell_type": "markdown",
   "source": [
    "# 构建tpch q1的物理查询计划"
   ],
   "metadata": {
    "collapsed": false
   }
  },
  {
   "cell_type": "markdown",
   "source": [
    "## 物理执行计划执行器"
   ],
   "metadata": {
    "collapsed": false
   }
  },
  {
   "cell_type": "code",
   "execution_count": 327,
   "outputs": [],
   "source": [
    "class Executor:\n",
    "    def __init__(self):\n",
    "        pass\n",
    "\n",
    "    def Open(self):\n",
    "        pass\n",
    "\n",
    "    def Next(self):\n",
    "        pass\n",
    "\n",
    "    def Close(self):\n",
    "        pass"
   ],
   "metadata": {
    "collapsed": false,
    "pycharm": {
     "name": "#%%\n"
    }
   }
  },
  {
   "cell_type": "markdown",
   "source": [
    "## csv table scan执行器"
   ],
   "metadata": {
    "collapsed": false
   }
  },
  {
   "cell_type": "code",
   "execution_count": 328,
   "outputs": [],
   "source": [
    "class CsvTableScan(Executor):\n",
    "    def __init__(self,schema : arrow.Schema,column_names : list,drop_columns : list):\n",
    "        super().__init__()\n",
    "        self.reader = None\n",
    "        self.schema = schema\n",
    "        self.column_names = column_names\n",
    "        self.drop_columns = drop_columns\n",
    "        self.block_size = 16 * 1024\n",
    "\n",
    "    def Open(self):\n",
    "        # 打开文件\n",
    "        meta = self.schema.metadata\n",
    "        path = meta.get(b\"path\").decode('utf-8')\n",
    "        delimiter = meta.get(b\"delimiter\").decode('utf-8')\n",
    "        # pprint(meta)\n",
    "        # pprint(meta.get(b\"path\").decode('utf-8'))\n",
    "        # pprint(meta.get(b\"delimiter\").decode('utf-8'))\n",
    "        read_opts = arrow.csv.ReadOptions(column_names = self.column_names,\n",
    "                                          block_size = self.block_size,\n",
    "                                          autogenerate_column_names = bool)\n",
    "        parse_opts = arrow.csv.ParseOptions(delimiter = delimiter)\n",
    "        convert_opts = arrow.csv.ConvertOptions(column_types = self.schema,\n",
    "                                                include_columns = self.column_names)\n",
    "        self.reader = arrow.csv.open_csv(path,read_options = read_opts,parse_options = parse_opts,convert_options = convert_opts)\n",
    "\n",
    "    def Next(self):\n",
    "        chunk = self.reader.read_next_batch()\n",
    "        needed_arrays = []\n",
    "        for col_idx in range(chunk.num_columns):\n",
    "            if col_idx in self.drop_columns:\n",
    "                continue\n",
    "            needed_arrays.append(chunk.column(col_idx))\n",
    "        # pprint(self.schema)\n",
    "        # pprint(needed_arrays)\n",
    "        ret_chunk = arrow.RecordBatch.from_arrays(needed_arrays,self.column_names,self.schema)\n",
    "        return ret_chunk\n",
    "\n",
    "    def Close(self):\n",
    "        self.reader.close()"
   ],
   "metadata": {
    "collapsed": false,
    "pycharm": {
     "name": "#%%\n"
    }
   }
  },
  {
   "cell_type": "code",
   "execution_count": 329,
   "outputs": [
    {
     "name": "stdout",
     "output_type": "stream",
     "text": [
      "   l_orderkey  l_partkey  l_suppkey  l_linenumber l_quantity l_extendedprice  \\\n",
      "0           1      15519        785             1      17.00        24386.67   \n",
      "1           1       6731        732             2      36.00        58958.28   \n",
      "2           1       6370        371             3       8.00        10210.96   \n",
      "3           1        214        465             4      28.00        31197.88   \n",
      "4           1       2403        160             5      24.00        31329.60   \n",
      "5           1       1564         67             6      32.00        46897.92   \n",
      "6           2      10617        138             1      38.00        58049.18   \n",
      "7           3        430        181             1      45.00        59869.35   \n",
      "8           3       1904        658             2      49.00        88489.10   \n",
      "9           3      12845        370             3      27.00        47461.68   \n",
      "\n",
      "  l_discount l_tax l_returnflag l_linestatus  l_shipdate l_commitdate  \\\n",
      "0       0.04  0.02            N            O  1996-03-13   1996-02-12   \n",
      "1       0.09  0.06            N            O  1996-04-12   1996-02-28   \n",
      "2       0.10  0.02            N            O  1996-01-29   1996-03-05   \n",
      "3       0.09  0.06            N            O  1996-04-21   1996-03-30   \n",
      "4       0.10  0.04            N            O  1996-03-30   1996-03-14   \n",
      "5       0.07  0.02            N            O  1996-01-30   1996-02-07   \n",
      "6       0.00  0.05            N            O  1997-01-28   1997-01-14   \n",
      "7       0.06  0.00            R            F  1994-02-02   1994-01-04   \n",
      "8       0.10  0.00            R            F  1993-11-09   1993-12-20   \n",
      "9       0.06  0.07            A            F  1994-01-16   1993-11-22   \n",
      "\n",
      "  l_receiptdate     l_shipinstruct l_shipmode  \\\n",
      "0    1996-03-22  DELIVER IN PERSON      TRUCK   \n",
      "1    1996-04-20   TAKE BACK RETURN       MAIL   \n",
      "2    1996-01-31   TAKE BACK RETURN    REG AIR   \n",
      "3    1996-05-16               NONE        AIR   \n",
      "4    1996-04-01               NONE        FOB   \n",
      "5    1996-02-03  DELIVER IN PERSON       MAIL   \n",
      "6    1997-02-02   TAKE BACK RETURN       RAIL   \n",
      "7    1994-02-23               NONE        AIR   \n",
      "8    1993-11-24   TAKE BACK RETURN       RAIL   \n",
      "9    1994-01-23  DELIVER IN PERSON       SHIP   \n",
      "\n",
      "                             l_comment  \n",
      "0              egular courts above the  \n",
      "1   ly final dependencies: slyly bold   \n",
      "2        riously. regular, express dep  \n",
      "3              lites. fluffily even de  \n",
      "4              pending foxes. slyly re  \n",
      "5                    arefully slyly ex  \n",
      "6      ven requests. deposits breach a  \n",
      "7  ongside of the furiously brave acco  \n",
      "8                unusual accounts. eve  \n",
      "9                     nal foxes wake.   \n"
     ]
    }
   ],
   "source": [
    "csvReader = CsvTableScan(lineitemSchema,None,[16])\n",
    "csvReader.Open()\n",
    "record1 = csvReader.Next()\n",
    "pprint(record1.to_pandas())\n",
    "csvReader.Close()"
   ],
   "metadata": {
    "collapsed": false,
    "pycharm": {
     "name": "#%%\n"
    }
   }
  },
  {
   "cell_type": "markdown",
   "source": [
    "## 表达式执行函数"
   ],
   "metadata": {
    "collapsed": false
   }
  },
  {
   "cell_type": "code",
   "execution_count": 330,
   "outputs": [],
   "source": [
    "def exec_expr(expr,records):\n",
    "    expr_type = expr[0]\n",
    "    if expr_type == EXPR_OP_COLUMN_REF:\n",
    "        return records.column(expr[1][0].name)\n",
    "    elif expr_type == EXPR_OP_CONST:\n",
    "        if expr[1]:# NULL\n",
    "            raise Exception(f\"not implement const NULL\")\n",
    "        else:\n",
    "            if isinstance(expr[2],ast.String):\n",
    "                return arrow.array([expr[2].sval]*records.num_rows,arrow.string())\n",
    "            elif isinstance(expr[2],ast.Integer):\n",
    "                return arrow.array([expr[2].ival]*records.num_rows,arrow.int32())\n",
    "            else:\n",
    "                raise Exception(f\"not implement const expr {expr}\")\n",
    "    elif expr_type == EXPR_OP_CAST:\n",
    "        #直接转换\n",
    "        l = exec_expr(expr[1],records)\n",
    "        target_type = expr[2][0].sval\n",
    "        if len(expr[2]) > 1:\n",
    "            target_type = expr[2][1].sval\n",
    "        if target_type == \"date\":\n",
    "            date_vals = []\n",
    "            for s in l:\n",
    "                date_vals.append(datetime.strptime(str(s),\"%Y-%m-%d\"))\n",
    "            return arrow.array(date_vals,arrow.date32())\n",
    "        elif target_type == \"interval\":\n",
    "            int_vals = []\n",
    "            for s in l:\n",
    "                int_vals.append(int(str(s)))\n",
    "            return arrow.array(int_vals,arrow.int32())\n",
    "        else:\n",
    "            print(f\"target_type {target_type}\")\n",
    "            return compute.cast(l,target_type)\n",
    "    elif expr_type == EXPR_OP_PLUS:\n",
    "        l = exec_expr(expr[1],records)\n",
    "        r = exec_expr(expr[2],records)\n",
    "        return compute.add(l,r)\n",
    "    elif expr_type == EXPR_OP_MINUS:\n",
    "        l = exec_expr(expr[1],records)\n",
    "        r = exec_expr(expr[2],records)\n",
    "\n",
    "        if types.is_date32(l.type):\n",
    "            #对时间的减法做特殊处理\n",
    "            date_time_vals = []\n",
    "            for d in l:\n",
    "                date_time_vals.append(datetime.strptime(str(d),\"%Y-%m-%d\"))\n",
    "            time_delta_vals = []\n",
    "            if types.is_int32(r.type):\n",
    "                for i in r:\n",
    "                    time_delta_vals.append(timedelta(int(str(i))))\n",
    "            else:\n",
    "                raise Exception(\"date minus needs int32\")\n",
    "\n",
    "            res_vals = [date_time_vals[i] - time_delta_vals[i] for i in range(len(time_delta_vals))]\n",
    "            return arrow.array(res_vals,arrow.date32())\n",
    "        else:\n",
    "            return compute.subtract(l,r)\n",
    "    elif expr_type == EXPR_OP_MULTI:\n",
    "        l = exec_expr(expr[1],records)\n",
    "        r = exec_expr(expr[2],records)\n",
    "        return compute.multiply(l,r)\n",
    "    elif expr_type == EXPR_OP_LESS_EQUAL:\n",
    "        l = exec_expr(expr[1],records)\n",
    "        r = exec_expr(expr[2],records)\n",
    "        return compute.less_equal(l,r)\n",
    "    elif expr_type == GROUP_EXPR:\n",
    "        return exec_expr(expr[1],records)\n",
    "    else:\n",
    "        raise Exception(f\"not implement exec expr {expr}\")\n",
    "    pass"
   ],
   "metadata": {
    "collapsed": false,
    "pycharm": {
     "name": "#%%\n"
    }
   }
  },
  {
   "cell_type": "markdown",
   "source": [
    "## filter执行器\n",
    "执行where子句"
   ],
   "metadata": {
    "collapsed": false
   }
  },
  {
   "cell_type": "code",
   "execution_count": 331,
   "outputs": [],
   "source": [
    "class FilterExecutor(Executor):\n",
    "    def __init__(self, filter: tuple, child: Executor):\n",
    "        super().__init__()\n",
    "        self.filter = filter\n",
    "        self.child = child\n",
    "\n",
    "    def Open(self):\n",
    "        self.child.Open()\n",
    "\n",
    "    def Next(self):\n",
    "        child_records = self.child.Next()\n",
    "        mask = exec_expr(self.filter,child_records)\n",
    "        return child_records.filter(mask)\n",
    "\n",
    "    def Close(self):\n",
    "        self.child.Close()"
   ],
   "metadata": {
    "collapsed": false,
    "pycharm": {
     "name": "#%%\n"
    }
   }
  },
  {
   "cell_type": "markdown",
   "source": [
    "### 测试时间减法"
   ],
   "metadata": {
    "collapsed": false
   }
  },
  {
   "cell_type": "code",
   "execution_count": 332,
   "outputs": [
    {
     "name": "stdout",
     "output_type": "stream",
     "text": [
      "1998-12-01 00:00:00\n",
      "1998-12-01 00:00:00\n",
      "112 days, 0:00:00\n",
      "112 days, 0:00:00\n"
     ]
    }
   ],
   "source": [
    "date1 = datetime.strptime('1998-12-01',\"%Y-%m-%d\")\n",
    "date2_arr = arrow.array([date1]*2,arrow.date32())\n",
    "# pprint(date2_arr)\n",
    "date4_vals = []\n",
    "if types.is_date32(date2_arr.type):\n",
    "    for d in date2_arr:\n",
    "        print(datetime.strptime(str(d),\"%Y-%m-%d\"))\n",
    "\n",
    "date3_arr = arrow.array([112]*2,arrow.int32())\n",
    "if types.is_int32(date3_arr.type):\n",
    "    for i in date3_arr:\n",
    "        print(timedelta(int(str(i))))\n",
    "\n"
   ],
   "metadata": {
    "collapsed": false,
    "pycharm": {
     "name": "#%%\n"
    }
   }
  },
  {
   "cell_type": "markdown",
   "source": [
    "## groupby执行器"
   ],
   "metadata": {
    "collapsed": false
   }
  },
  {
   "cell_type": "code",
   "execution_count": 333,
   "outputs": [],
   "source": [
    "class GroupbyExecutor(Executor):\n",
    "    def __init__(self, plan: dict, child: Executor):\n",
    "        super().__init__()\n",
    "        self.plan = plan\n",
    "        self.child = child\n",
    "        self.aggregate = plan.get(AGGREGATE,[])\n",
    "        self.groupby = plan.get(GROUP,[])\n",
    "        self.hash_func = hashlib.sha256()\n",
    "        #构建哈希表\n",
    "        self.hash_table = {}\n",
    "\n",
    "\n",
    "    def gen_hash(self,records):\n",
    "        hash_vals = []\n",
    "        for input in records:\n",
    "            self.hash_func.update(str(input).encode(\"utf-8\"))\n",
    "            val = self.hash_func.hexdigest()\n",
    "            # print(input,type(val))\n",
    "            hash_vals.append(val)\n",
    "        return hash_vals\n",
    "\n",
    "    def update_agg_func_val(self,hash_key,param_vals,row_idx):\n",
    "        hash_val = self.hash_table.get(hash_key,{})\n",
    "        for agg_idx in range(len(self.aggregate)):\n",
    "            agg_partial = hash_val.get(agg_idx,None)\n",
    "            agg_func = self.aggregate[agg_idx]\n",
    "            agg_func_name = agg_func[1]\n",
    "            if agg_func_name == \"sum\":\n",
    "                pprint(f\"row_idx {row_idx} param_vals {param_vals[agg_idx]}\")\n",
    "                param_val_row = param_vals[agg_idx][0][row_idx]\n",
    "                if agg_partial is None:\n",
    "                    agg_partial = [agg_func_name,param_val_row]\n",
    "                else:\n",
    "                    partial_add_val = compute.add(agg_partial[1],param_val_row)\n",
    "                    agg_partial = [agg_func_name,partial_add_val]\n",
    "            elif agg_func_name == \"count\":\n",
    "                if agg_partial is None:\n",
    "                    agg_partial = [agg_func_name,1]\n",
    "                else:\n",
    "                    agg_partial[1] = agg_partial[1]+1\n",
    "                    agg_partial = [agg_func_name,agg_partial[1]]\n",
    "            elif agg_func_name == \"avg\":\n",
    "                param_val_row = param_vals[agg_idx][0][row_idx]\n",
    "                if agg_partial is None:\n",
    "                    agg_partial = [agg_func_name,1,param_val_row]\n",
    "                else:\n",
    "                    agg_partial[1] = agg_partial[1]+1\n",
    "                    partial_add_val = compute.add(agg_partial[2],param_val_row)\n",
    "                    agg_partial = [agg_func_name,agg_partial[1],partial_add_val]\n",
    "            else:\n",
    "                raise Exception(f\"not implement agg func {agg_func}\")\n",
    "            hash_val[agg_idx] = agg_partial\n",
    "    def end_agg_func_val(self):\n",
    "        #TODO:\n",
    "        pass\n",
    "\n",
    "    def update_hash_table(self,hash_vals,records):\n",
    "        # 计算聚合函数参数表达式\n",
    "        param_vals = []\n",
    "        for agg_idx in range(len(self.aggregate)):\n",
    "            agg_func = self.aggregate[agg_idx]\n",
    "            # pprint(f\"agg_func {agg_func}\")\n",
    "            # 计算聚合函数每个参数\n",
    "            agg_func_name = agg_func[1]\n",
    "            agg_args = agg_func[2]\n",
    "            agg_arg_vals = []\n",
    "            for arg in agg_args:\n",
    "                # pprint(f\"agg arg {arg}\")\n",
    "                if agg_func_name == \"count\" and arg == \"*\":\n",
    "                    agg_arg_vals.append(arrow.array([\"*\"]*records.num_rows,arrow.string()))\n",
    "                else:\n",
    "                    agg_arg_val = exec_expr(arg,records)\n",
    "                    agg_arg_vals.append(agg_arg_val)\n",
    "            param_vals.append(agg_arg_vals)\n",
    "\n",
    "        # pprint(f\"param_vals {param_vals}\")\n",
    "\n",
    "        pprint(f\"hash_vals {hash_vals}\")\n",
    "        # 根据哈希key分组\n",
    "        row_count = len(hash_vals[0])\n",
    "        col_count = len(hash_vals)\n",
    "        for r in range(row_count):\n",
    "            hash_key = []\n",
    "            for c in range(col_count):\n",
    "                hash_key.append(hash_vals[c][r])\n",
    "            #更新聚合函数的中间结果\n",
    "            self.update_agg_func_val(\",\".join(hash_key),param_vals,r)\n",
    "\n",
    "    def Open(self):\n",
    "        self.child.Open()\n",
    "\n",
    "    def Next(self):\n",
    "        records = self.child.Next()\n",
    "        while records is not None:\n",
    "            # 计算groupby表达式,求groupby值的哈希\n",
    "            group_by_hash_vals = []\n",
    "            for e in self.groupby:\n",
    "                # pprint(e)\n",
    "                val = exec_expr(e,records)\n",
    "                hash_val = self.gen_hash(val)\n",
    "                group_by_hash_vals.append(hash_val)\n",
    "            # pprint(group_by_hash_vals)\n",
    "            self.update_hash_table(group_by_hash_vals,records)\n",
    "            # 下一批输入\n",
    "            records = self.child.Next()\n",
    "\n",
    "        #完成聚合函数的结果\n",
    "        ret_records = self.end_agg_func_val()\n",
    "        return ret_records\n",
    "\n",
    "    def Close(self):\n",
    "        self.child.Close()"
   ],
   "metadata": {
    "collapsed": false,
    "pycharm": {
     "name": "#%%\n"
    }
   }
  },
  {
   "cell_type": "markdown",
   "source": [
    "## 物理计划builder"
   ],
   "metadata": {
    "collapsed": false
   }
  },
  {
   "cell_type": "code",
   "execution_count": 334,
   "outputs": [],
   "source": [
    "class PhysicalPlanBuilder:\n",
    "    def __init__(self):\n",
    "        pass\n",
    "\n",
    "    def build(self,plan : dict,node : str):\n",
    "        if node == RELATIONS:\n",
    "            rel_info = plan.get(RELATIONS)\n",
    "            if rel_info[0] == SINGLE_RELATION:\n",
    "                rel_def = rel_info[1]\n",
    "                table_name = list(rel_def.keys())[0]\n",
    "                table_def = rel_def.get(table_name)\n",
    "                schema = table_def[SCHEMA_IDX]\n",
    "                return CsvTableScan(schema,None,[16])\n",
    "            else:\n",
    "                raise Exception(f\"not implement relations {rel_info[0]}\")\n",
    "\n",
    "        elif node == WHERE :\n",
    "            child = self.build(plan,RELATIONS)\n",
    "            # 生成filter执行器\n",
    "            filter = plan.get(WHERE)\n",
    "            filter_exec = FilterExecutor(filter,child)\n",
    "            return filter_exec\n",
    "        elif node == GROUP:\n",
    "            child = self.build(plan,WHERE)\n",
    "            # 生成groupby执行器\n",
    "            groupby = GroupbyExecutor(plan,child)\n",
    "            return groupby\n",
    "        else:\n",
    "            raise Exception(f\"not implement plan\")\n"
   ],
   "metadata": {
    "collapsed": false,
    "pycharm": {
     "name": "#%%\n"
    }
   }
  },
  {
   "cell_type": "markdown",
   "source": [
    "# main"
   ],
   "metadata": {
    "collapsed": false
   }
  },
  {
   "cell_type": "markdown",
   "source": [
    "## 执行逻辑计划"
   ],
   "metadata": {
    "collapsed": false
   }
  },
  {
   "cell_type": "code",
   "execution_count": 335,
   "outputs": [
    {
     "name": "stdout",
     "output_type": "stream",
     "text": [
      "{'aggregate': [('func',\n",
      "                'sum',\n",
      "                [('colRef',\n",
      "                  (pyarrow.Field<l_quantity: decimal256(21, 2) not null>,\n",
      "                   'tpch',\n",
      "                   'lineitem'))]),\n",
      "               ('func',\n",
      "                'sum',\n",
      "                [('colRef',\n",
      "                  (pyarrow.Field<l_extendedprice: decimal256(21, 2) not null>,\n",
      "                   'tpch',\n",
      "                   'lineitem'))]),\n",
      "               ('func',\n",
      "                'sum',\n",
      "                [('*',\n",
      "                  ('colRef',\n",
      "                   (pyarrow.Field<l_extendedprice: decimal256(21, 2) not null>,\n",
      "                    'tpch',\n",
      "                    'lineitem')),\n",
      "                  ('-',\n",
      "                   ('const', False, <Integer ival=1>),\n",
      "                   ('colRef',\n",
      "                    (pyarrow.Field<l_discount: decimal256(21, 2) not null>,\n",
      "                     'tpch',\n",
      "                     'lineitem'))))]),\n",
      "               ('func',\n",
      "                'sum',\n",
      "                [('*',\n",
      "                  ('*',\n",
      "                   ('colRef',\n",
      "                    (pyarrow.Field<l_extendedprice: decimal256(21, 2) not null>,\n",
      "                     'tpch',\n",
      "                     'lineitem')),\n",
      "                   ('-',\n",
      "                    ('const', False, <Integer ival=1>),\n",
      "                    ('colRef',\n",
      "                     (pyarrow.Field<l_discount: decimal256(21, 2) not null>,\n",
      "                      'tpch',\n",
      "                      'lineitem')))),\n",
      "                  ('+',\n",
      "                   ('const', False, <Integer ival=1>),\n",
      "                   ('colRef',\n",
      "                    (pyarrow.Field<l_tax: decimal256(21, 2) not null>,\n",
      "                     'tpch',\n",
      "                     'lineitem'))))]),\n",
      "               ('func',\n",
      "                'avg',\n",
      "                [('colRef',\n",
      "                  (pyarrow.Field<l_quantity: decimal256(21, 2) not null>,\n",
      "                   'tpch',\n",
      "                   'lineitem'))]),\n",
      "               ('func',\n",
      "                'avg',\n",
      "                [('colRef',\n",
      "                  (pyarrow.Field<l_extendedprice: decimal256(21, 2) not null>,\n",
      "                   'tpch',\n",
      "                   'lineitem'))]),\n",
      "               ('func',\n",
      "                'avg',\n",
      "                [('colRef',\n",
      "                  (pyarrow.Field<l_discount: decimal256(21, 2) not null>,\n",
      "                   'tpch',\n",
      "                   'lineitem'))]),\n",
      "               ('func', 'count', '*')],\n",
      " 'group': [('group_expr',\n",
      "            ('colRef',\n",
      "             (pyarrow.Field<l_returnflag: string not null>,\n",
      "              'tpch',\n",
      "              'lineitem'))),\n",
      "           ('group_expr',\n",
      "            ('colRef',\n",
      "             (pyarrow.Field<l_linestatus: string not null>,\n",
      "              'tpch',\n",
      "              'lineitem')))],\n",
      " 'order': [('order_expr',\n",
      "            ('colRef',\n",
      "             (pyarrow.Field<l_returnflag: string not null>,\n",
      "              'tpch',\n",
      "              'lineitem')),\n",
      "            <SortByDir.SORTBY_DEFAULT: 0>),\n",
      "           ('order_expr',\n",
      "            ('colRef',\n",
      "             (pyarrow.Field<l_linestatus: string not null>,\n",
      "              'tpch',\n",
      "              'lineitem')),\n",
      "            <SortByDir.SORTBY_DEFAULT: 0>)],\n",
      " 'output': [('output_expr',\n",
      "             'l_returnflag',\n",
      "             ('colRef',\n",
      "              (pyarrow.Field<l_returnflag: string not null>,\n",
      "               'tpch',\n",
      "               'lineitem'))),\n",
      "            ('output_expr',\n",
      "             'l_linestatus',\n",
      "             ('colRef',\n",
      "              (pyarrow.Field<l_linestatus: string not null>,\n",
      "               'tpch',\n",
      "               'lineitem'))),\n",
      "            ('output_expr', 'sum_qty', ('func_result_ref', 0)),\n",
      "            ('output_expr', 'sum_base_price', ('func_result_ref', 1)),\n",
      "            ('output_expr', 'sum_disc_price', ('func_result_ref', 2)),\n",
      "            ('output_expr', 'sum_charge', ('func_result_ref', 3)),\n",
      "            ('output_expr', 'avg_qty', ('func_result_ref', 4)),\n",
      "            ('output_expr', 'avg_price', ('func_result_ref', 5)),\n",
      "            ('output_expr', 'avg_disc', ('func_result_ref', 6)),\n",
      "            ('output_expr', 'count_order', ('func_result_ref', 7))],\n",
      " 'relations': ['singleRelation',\n",
      "               {'lineitem': ['table',\n",
      "                             'tpch',\n",
      "                             'lineitem',\n",
      "                             'lineitem',\n",
      "                             l_orderkey: int64 not null\n",
      "l_partkey: int32 not null\n",
      "l_suppkey: int32 not null\n",
      "l_linenumber: int32 not null\n",
      "l_quantity: decimal256(21, 2) not null\n",
      "l_extendedprice: decimal256(21, 2) not null\n",
      "l_discount: decimal256(21, 2) not null\n",
      "l_tax: decimal256(21, 2) not null\n",
      "l_returnflag: string not null\n",
      "l_linestatus: string not null\n",
      "l_shipdate: date32[day] not null\n",
      "l_commitdate: date32[day] not null\n",
      "l_receiptdate: date32[day] not null\n",
      "l_shipinstruct: string not null\n",
      "l_shipmode: string not null\n",
      "l_comment: string not null\n",
      "-- schema metadata --\n",
      "name: 'lineitem'\n",
      "delimiter: '|'\n",
      "path: '/Users/pengzhen/Documents/GitHub/mo-test/tpch100M/lineitem.tbl_10']}],\n",
      " 'where': ('<=',\n",
      "           ('colRef',\n",
      "            (pyarrow.Field<l_shipdate: date32[day] not null>,\n",
      "             'tpch',\n",
      "             'lineitem')),\n",
      "           ('-',\n",
      "            ('cast',\n",
      "             ('const', False, <String sval='1998-12-01'>),\n",
      "             (<String sval='date'>,)),\n",
      "            ('cast',\n",
      "             ('const', False, <String sval='112'>),\n",
      "             (<String sval='pg_catalog'>, <String sval='interval'>))))}\n"
     ]
    }
   ],
   "source": [
    "plan = {}\n",
    "selBuilder = SelectBuilder()\n",
    "selBuilder.build(q1Stmt.stmt,plan)\n",
    "pprint(plan)"
   ],
   "metadata": {
    "collapsed": false,
    "pycharm": {
     "name": "#%%\n"
    }
   }
  },
  {
   "cell_type": "markdown",
   "source": [
    "\n",
    "## 执行物理计划"
   ],
   "metadata": {
    "collapsed": false
   }
  },
  {
   "cell_type": "code",
   "execution_count": 336,
   "outputs": [
    {
     "name": "stdout",
     "output_type": "stream",
     "text": [
      "('hash_vals '\n",
      " \"[['8ce86a6ae65d3692e7305e2c58ac62eebd97d3d943e093f577da25c36988246b', \"\n",
      " \"'15c841dff8407a197a8be456d43283d973c0ba690724b24da5e5d0d6dbc70423', \"\n",
      " \"'c6194eb92ed46a0996c1cab8662c10bc6b176ddc6599998d35c2e6eb0a357364', \"\n",
      " \"'06ff7b7828c546ebf947a94cd81e3d2f89c05b5e1f70d85ed1e3da47847e33e1', \"\n",
      " \"'4dd65d504cb177906c39754c46ba99ea9699a0499ecc4f11a64bd709c26bdda0', \"\n",
      " \"'79b73eb424a23572d5a72cc8ca3eff14309ca5c41552f5c106e814347d7c1363', \"\n",
      " \"'a1f2843a5b3ff3bcd7d4a5ea4126565e7c1f727181ff3455bdf0c90d6ef27381', \"\n",
      " \"'7f52ded415fedfc85466ded02511189c89bcdf919e8195ba9965e52c212ffbb3', \"\n",
      " \"'b14b104072b2e22296cfb90e8382ca03c43d0221005a2be583d1ecdf9b4f0b7b', \"\n",
      " \"'cd67c3dac764b35e35372c97422867301e1f8e623be064bbbebcd01de4ca6b3a'], \"\n",
      " \"['0d546db37a959327185f8f0df9bfd0633a684b2641e3edf35f66deb8fc013855', \"\n",
      " \"'b82849c8c169a1d4b20f8be13c80f51b5b7889d9ee49a32770ce2536e10a6fc0', \"\n",
      " \"'c18bf9bb1fad956e10f5563252581b27e8f6030546b13c8205931896ea72d31f', \"\n",
      " \"'295354c5cc52e69e83030d67af2e3bcb490296cf8564885b28ad4b1769edbfc2', \"\n",
      " \"'a0b2367d9e842a23201401ad3bd8ddded104d0fd31ac82d0e12f0dd2546b3c8e', \"\n",
      " \"'05b7b9ad132346bed1450c4584c80ec15baadd02bad162add0fe9499f8438f65', \"\n",
      " \"'d2942b8bf2e4b96668f21b99f56bd04b240dd329bcd125dbc56d3a996a98cee2', \"\n",
      " \"'58370bb003ceb9d8e64ebe220d1e7e8dcf3c0c1b5da268ba6245688a9d02b0f4', \"\n",
      " \"'de24edb17b6b19db6315d0c1b7b374ee84fa7b6a52cc34c1e0a51680365370d3', \"\n",
      " \"'b6164dbe3c611b63749cfce7668124ad68b9b45dfc7d6b26cf32067522750096']]\")\n",
      "('row_idx 0 param_vals [<pyarrow.lib.Decimal256Array object at 0x111b55d00>\\n'\n",
      " '[\\n'\n",
      " '  17.00,\\n'\n",
      " '  36.00,\\n'\n",
      " '  8.00,\\n'\n",
      " '  28.00,\\n'\n",
      " '  24.00,\\n'\n",
      " '  32.00,\\n'\n",
      " '  38.00,\\n'\n",
      " '  45.00,\\n'\n",
      " '  49.00,\\n'\n",
      " '  27.00\\n'\n",
      " ']]')\n",
      "('row_idx 0 param_vals [<pyarrow.lib.Decimal256Array object at 0x111b29940>\\n'\n",
      " '[\\n'\n",
      " '  24386.67,\\n'\n",
      " '  58958.28,\\n'\n",
      " '  10210.96,\\n'\n",
      " '  31197.88,\\n'\n",
      " '  31329.60,\\n'\n",
      " '  46897.92,\\n'\n",
      " '  58049.18,\\n'\n",
      " '  59869.35,\\n'\n",
      " '  88489.10,\\n'\n",
      " '  47461.68\\n'\n",
      " ']]')\n",
      "('row_idx 0 param_vals [<pyarrow.lib.Decimal256Array object at 0x11117bdc0>\\n'\n",
      " '[\\n'\n",
      " '  23411.2032,\\n'\n",
      " '  53652.0348,\\n'\n",
      " '  9189.8640,\\n'\n",
      " '  28390.0708,\\n'\n",
      " '  28196.6400,\\n'\n",
      " '  43615.0656,\\n'\n",
      " '  58049.1800,\\n'\n",
      " '  56277.1890,\\n'\n",
      " '  79640.1900,\\n'\n",
      " '  44613.9792\\n'\n",
      " ']]')\n",
      "('row_idx 0 param_vals [<pyarrow.lib.Decimal256Array object at 0x11117be20>\\n'\n",
      " '[\\n'\n",
      " '  23879.427264,\\n'\n",
      " '  56871.156888,\\n'\n",
      " '  9373.661280,\\n'\n",
      " '  30093.475048,\\n'\n",
      " '  29324.505600,\\n'\n",
      " '  44487.366912,\\n'\n",
      " '  60951.639000,\\n'\n",
      " '  56277.189000,\\n'\n",
      " '  79640.190000,\\n'\n",
      " '  47736.957744\\n'\n",
      " ']]')\n",
      "('row_idx 1 param_vals [<pyarrow.lib.Decimal256Array object at 0x111b55d00>\\n'\n",
      " '[\\n'\n",
      " '  17.00,\\n'\n",
      " '  36.00,\\n'\n",
      " '  8.00,\\n'\n",
      " '  28.00,\\n'\n",
      " '  24.00,\\n'\n",
      " '  32.00,\\n'\n",
      " '  38.00,\\n'\n",
      " '  45.00,\\n'\n",
      " '  49.00,\\n'\n",
      " '  27.00\\n'\n",
      " ']]')\n",
      "('row_idx 1 param_vals [<pyarrow.lib.Decimal256Array object at 0x111b29940>\\n'\n",
      " '[\\n'\n",
      " '  24386.67,\\n'\n",
      " '  58958.28,\\n'\n",
      " '  10210.96,\\n'\n",
      " '  31197.88,\\n'\n",
      " '  31329.60,\\n'\n",
      " '  46897.92,\\n'\n",
      " '  58049.18,\\n'\n",
      " '  59869.35,\\n'\n",
      " '  88489.10,\\n'\n",
      " '  47461.68\\n'\n",
      " ']]')\n",
      "('row_idx 1 param_vals [<pyarrow.lib.Decimal256Array object at 0x11117bdc0>\\n'\n",
      " '[\\n'\n",
      " '  23411.2032,\\n'\n",
      " '  53652.0348,\\n'\n",
      " '  9189.8640,\\n'\n",
      " '  28390.0708,\\n'\n",
      " '  28196.6400,\\n'\n",
      " '  43615.0656,\\n'\n",
      " '  58049.1800,\\n'\n",
      " '  56277.1890,\\n'\n",
      " '  79640.1900,\\n'\n",
      " '  44613.9792\\n'\n",
      " ']]')\n",
      "('row_idx 1 param_vals [<pyarrow.lib.Decimal256Array object at 0x11117be20>\\n'\n",
      " '[\\n'\n",
      " '  23879.427264,\\n'\n",
      " '  56871.156888,\\n'\n",
      " '  9373.661280,\\n'\n",
      " '  30093.475048,\\n'\n",
      " '  29324.505600,\\n'\n",
      " '  44487.366912,\\n'\n",
      " '  60951.639000,\\n'\n",
      " '  56277.189000,\\n'\n",
      " '  79640.190000,\\n'\n",
      " '  47736.957744\\n'\n",
      " ']]')\n",
      "('row_idx 2 param_vals [<pyarrow.lib.Decimal256Array object at 0x111b55d00>\\n'\n",
      " '[\\n'\n",
      " '  17.00,\\n'\n",
      " '  36.00,\\n'\n",
      " '  8.00,\\n'\n",
      " '  28.00,\\n'\n",
      " '  24.00,\\n'\n",
      " '  32.00,\\n'\n",
      " '  38.00,\\n'\n",
      " '  45.00,\\n'\n",
      " '  49.00,\\n'\n",
      " '  27.00\\n'\n",
      " ']]')\n",
      "('row_idx 2 param_vals [<pyarrow.lib.Decimal256Array object at 0x111b29940>\\n'\n",
      " '[\\n'\n",
      " '  24386.67,\\n'\n",
      " '  58958.28,\\n'\n",
      " '  10210.96,\\n'\n",
      " '  31197.88,\\n'\n",
      " '  31329.60,\\n'\n",
      " '  46897.92,\\n'\n",
      " '  58049.18,\\n'\n",
      " '  59869.35,\\n'\n",
      " '  88489.10,\\n'\n",
      " '  47461.68\\n'\n",
      " ']]')\n",
      "('row_idx 2 param_vals [<pyarrow.lib.Decimal256Array object at 0x11117bdc0>\\n'\n",
      " '[\\n'\n",
      " '  23411.2032,\\n'\n",
      " '  53652.0348,\\n'\n",
      " '  9189.8640,\\n'\n",
      " '  28390.0708,\\n'\n",
      " '  28196.6400,\\n'\n",
      " '  43615.0656,\\n'\n",
      " '  58049.1800,\\n'\n",
      " '  56277.1890,\\n'\n",
      " '  79640.1900,\\n'\n",
      " '  44613.9792\\n'\n",
      " ']]')\n",
      "('row_idx 2 param_vals [<pyarrow.lib.Decimal256Array object at 0x11117be20>\\n'\n",
      " '[\\n'\n",
      " '  23879.427264,\\n'\n",
      " '  56871.156888,\\n'\n",
      " '  9373.661280,\\n'\n",
      " '  30093.475048,\\n'\n",
      " '  29324.505600,\\n'\n",
      " '  44487.366912,\\n'\n",
      " '  60951.639000,\\n'\n",
      " '  56277.189000,\\n'\n",
      " '  79640.190000,\\n'\n",
      " '  47736.957744\\n'\n",
      " ']]')\n",
      "('row_idx 3 param_vals [<pyarrow.lib.Decimal256Array object at 0x111b55d00>\\n'\n",
      " '[\\n'\n",
      " '  17.00,\\n'\n",
      " '  36.00,\\n'\n",
      " '  8.00,\\n'\n",
      " '  28.00,\\n'\n",
      " '  24.00,\\n'\n",
      " '  32.00,\\n'\n",
      " '  38.00,\\n'\n",
      " '  45.00,\\n'\n",
      " '  49.00,\\n'\n",
      " '  27.00\\n'\n",
      " ']]')\n",
      "('row_idx 3 param_vals [<pyarrow.lib.Decimal256Array object at 0x111b29940>\\n'\n",
      " '[\\n'\n",
      " '  24386.67,\\n'\n",
      " '  58958.28,\\n'\n",
      " '  10210.96,\\n'\n",
      " '  31197.88,\\n'\n",
      " '  31329.60,\\n'\n",
      " '  46897.92,\\n'\n",
      " '  58049.18,\\n'\n",
      " '  59869.35,\\n'\n",
      " '  88489.10,\\n'\n",
      " '  47461.68\\n'\n",
      " ']]')\n",
      "('row_idx 3 param_vals [<pyarrow.lib.Decimal256Array object at 0x11117bdc0>\\n'\n",
      " '[\\n'\n",
      " '  23411.2032,\\n'\n",
      " '  53652.0348,\\n'\n",
      " '  9189.8640,\\n'\n",
      " '  28390.0708,\\n'\n",
      " '  28196.6400,\\n'\n",
      " '  43615.0656,\\n'\n",
      " '  58049.1800,\\n'\n",
      " '  56277.1890,\\n'\n",
      " '  79640.1900,\\n'\n",
      " '  44613.9792\\n'\n",
      " ']]')\n",
      "('row_idx 3 param_vals [<pyarrow.lib.Decimal256Array object at 0x11117be20>\\n'\n",
      " '[\\n'\n",
      " '  23879.427264,\\n'\n",
      " '  56871.156888,\\n'\n",
      " '  9373.661280,\\n'\n",
      " '  30093.475048,\\n'\n",
      " '  29324.505600,\\n'\n",
      " '  44487.366912,\\n'\n",
      " '  60951.639000,\\n'\n",
      " '  56277.189000,\\n'\n",
      " '  79640.190000,\\n'\n",
      " '  47736.957744\\n'\n",
      " ']]')\n",
      "('row_idx 4 param_vals [<pyarrow.lib.Decimal256Array object at 0x111b55d00>\\n'\n",
      " '[\\n'\n",
      " '  17.00,\\n'\n",
      " '  36.00,\\n'\n",
      " '  8.00,\\n'\n",
      " '  28.00,\\n'\n",
      " '  24.00,\\n'\n",
      " '  32.00,\\n'\n",
      " '  38.00,\\n'\n",
      " '  45.00,\\n'\n",
      " '  49.00,\\n'\n",
      " '  27.00\\n'\n",
      " ']]')\n",
      "('row_idx 4 param_vals [<pyarrow.lib.Decimal256Array object at 0x111b29940>\\n'\n",
      " '[\\n'\n",
      " '  24386.67,\\n'\n",
      " '  58958.28,\\n'\n",
      " '  10210.96,\\n'\n",
      " '  31197.88,\\n'\n",
      " '  31329.60,\\n'\n",
      " '  46897.92,\\n'\n",
      " '  58049.18,\\n'\n",
      " '  59869.35,\\n'\n",
      " '  88489.10,\\n'\n",
      " '  47461.68\\n'\n",
      " ']]')\n",
      "('row_idx 4 param_vals [<pyarrow.lib.Decimal256Array object at 0x11117bdc0>\\n'\n",
      " '[\\n'\n",
      " '  23411.2032,\\n'\n",
      " '  53652.0348,\\n'\n",
      " '  9189.8640,\\n'\n",
      " '  28390.0708,\\n'\n",
      " '  28196.6400,\\n'\n",
      " '  43615.0656,\\n'\n",
      " '  58049.1800,\\n'\n",
      " '  56277.1890,\\n'\n",
      " '  79640.1900,\\n'\n",
      " '  44613.9792\\n'\n",
      " ']]')\n",
      "('row_idx 4 param_vals [<pyarrow.lib.Decimal256Array object at 0x11117be20>\\n'\n",
      " '[\\n'\n",
      " '  23879.427264,\\n'\n",
      " '  56871.156888,\\n'\n",
      " '  9373.661280,\\n'\n",
      " '  30093.475048,\\n'\n",
      " '  29324.505600,\\n'\n",
      " '  44487.366912,\\n'\n",
      " '  60951.639000,\\n'\n",
      " '  56277.189000,\\n'\n",
      " '  79640.190000,\\n'\n",
      " '  47736.957744\\n'\n",
      " ']]')\n",
      "('row_idx 5 param_vals [<pyarrow.lib.Decimal256Array object at 0x111b55d00>\\n'\n",
      " '[\\n'\n",
      " '  17.00,\\n'\n",
      " '  36.00,\\n'\n",
      " '  8.00,\\n'\n",
      " '  28.00,\\n'\n",
      " '  24.00,\\n'\n",
      " '  32.00,\\n'\n",
      " '  38.00,\\n'\n",
      " '  45.00,\\n'\n",
      " '  49.00,\\n'\n",
      " '  27.00\\n'\n",
      " ']]')\n",
      "('row_idx 5 param_vals [<pyarrow.lib.Decimal256Array object at 0x111b29940>\\n'\n",
      " '[\\n'\n",
      " '  24386.67,\\n'\n",
      " '  58958.28,\\n'\n",
      " '  10210.96,\\n'\n",
      " '  31197.88,\\n'\n",
      " '  31329.60,\\n'\n",
      " '  46897.92,\\n'\n",
      " '  58049.18,\\n'\n",
      " '  59869.35,\\n'\n",
      " '  88489.10,\\n'\n",
      " '  47461.68\\n'\n",
      " ']]')\n",
      "('row_idx 5 param_vals [<pyarrow.lib.Decimal256Array object at 0x11117bdc0>\\n'\n",
      " '[\\n'\n",
      " '  23411.2032,\\n'\n",
      " '  53652.0348,\\n'\n",
      " '  9189.8640,\\n'\n",
      " '  28390.0708,\\n'\n",
      " '  28196.6400,\\n'\n",
      " '  43615.0656,\\n'\n",
      " '  58049.1800,\\n'\n",
      " '  56277.1890,\\n'\n",
      " '  79640.1900,\\n'\n",
      " '  44613.9792\\n'\n",
      " ']]')\n",
      "('row_idx 5 param_vals [<pyarrow.lib.Decimal256Array object at 0x11117be20>\\n'\n",
      " '[\\n'\n",
      " '  23879.427264,\\n'\n",
      " '  56871.156888,\\n'\n",
      " '  9373.661280,\\n'\n",
      " '  30093.475048,\\n'\n",
      " '  29324.505600,\\n'\n",
      " '  44487.366912,\\n'\n",
      " '  60951.639000,\\n'\n",
      " '  56277.189000,\\n'\n",
      " '  79640.190000,\\n'\n",
      " '  47736.957744\\n'\n",
      " ']]')\n",
      "('row_idx 6 param_vals [<pyarrow.lib.Decimal256Array object at 0x111b55d00>\\n'\n",
      " '[\\n'\n",
      " '  17.00,\\n'\n",
      " '  36.00,\\n'\n",
      " '  8.00,\\n'\n",
      " '  28.00,\\n'\n",
      " '  24.00,\\n'\n",
      " '  32.00,\\n'\n",
      " '  38.00,\\n'\n",
      " '  45.00,\\n'\n",
      " '  49.00,\\n'\n",
      " '  27.00\\n'\n",
      " ']]')\n",
      "('row_idx 6 param_vals [<pyarrow.lib.Decimal256Array object at 0x111b29940>\\n'\n",
      " '[\\n'\n",
      " '  24386.67,\\n'\n",
      " '  58958.28,\\n'\n",
      " '  10210.96,\\n'\n",
      " '  31197.88,\\n'\n",
      " '  31329.60,\\n'\n",
      " '  46897.92,\\n'\n",
      " '  58049.18,\\n'\n",
      " '  59869.35,\\n'\n",
      " '  88489.10,\\n'\n",
      " '  47461.68\\n'\n",
      " ']]')\n",
      "('row_idx 6 param_vals [<pyarrow.lib.Decimal256Array object at 0x11117bdc0>\\n'\n",
      " '[\\n'\n",
      " '  23411.2032,\\n'\n",
      " '  53652.0348,\\n'\n",
      " '  9189.8640,\\n'\n",
      " '  28390.0708,\\n'\n",
      " '  28196.6400,\\n'\n",
      " '  43615.0656,\\n'\n",
      " '  58049.1800,\\n'\n",
      " '  56277.1890,\\n'\n",
      " '  79640.1900,\\n'\n",
      " '  44613.9792\\n'\n",
      " ']]')\n",
      "('row_idx 6 param_vals [<pyarrow.lib.Decimal256Array object at 0x11117be20>\\n'\n",
      " '[\\n'\n",
      " '  23879.427264,\\n'\n",
      " '  56871.156888,\\n'\n",
      " '  9373.661280,\\n'\n",
      " '  30093.475048,\\n'\n",
      " '  29324.505600,\\n'\n",
      " '  44487.366912,\\n'\n",
      " '  60951.639000,\\n'\n",
      " '  56277.189000,\\n'\n",
      " '  79640.190000,\\n'\n",
      " '  47736.957744\\n'\n",
      " ']]')\n",
      "('row_idx 7 param_vals [<pyarrow.lib.Decimal256Array object at 0x111b55d00>\\n'\n",
      " '[\\n'\n",
      " '  17.00,\\n'\n",
      " '  36.00,\\n'\n",
      " '  8.00,\\n'\n",
      " '  28.00,\\n'\n",
      " '  24.00,\\n'\n",
      " '  32.00,\\n'\n",
      " '  38.00,\\n'\n",
      " '  45.00,\\n'\n",
      " '  49.00,\\n'\n",
      " '  27.00\\n'\n",
      " ']]')\n",
      "('row_idx 7 param_vals [<pyarrow.lib.Decimal256Array object at 0x111b29940>\\n'\n",
      " '[\\n'\n",
      " '  24386.67,\\n'\n",
      " '  58958.28,\\n'\n",
      " '  10210.96,\\n'\n",
      " '  31197.88,\\n'\n",
      " '  31329.60,\\n'\n",
      " '  46897.92,\\n'\n",
      " '  58049.18,\\n'\n",
      " '  59869.35,\\n'\n",
      " '  88489.10,\\n'\n",
      " '  47461.68\\n'\n",
      " ']]')\n",
      "('row_idx 7 param_vals [<pyarrow.lib.Decimal256Array object at 0x11117bdc0>\\n'\n",
      " '[\\n'\n",
      " '  23411.2032,\\n'\n",
      " '  53652.0348,\\n'\n",
      " '  9189.8640,\\n'\n",
      " '  28390.0708,\\n'\n",
      " '  28196.6400,\\n'\n",
      " '  43615.0656,\\n'\n",
      " '  58049.1800,\\n'\n",
      " '  56277.1890,\\n'\n",
      " '  79640.1900,\\n'\n",
      " '  44613.9792\\n'\n",
      " ']]')\n",
      "('row_idx 7 param_vals [<pyarrow.lib.Decimal256Array object at 0x11117be20>\\n'\n",
      " '[\\n'\n",
      " '  23879.427264,\\n'\n",
      " '  56871.156888,\\n'\n",
      " '  9373.661280,\\n'\n",
      " '  30093.475048,\\n'\n",
      " '  29324.505600,\\n'\n",
      " '  44487.366912,\\n'\n",
      " '  60951.639000,\\n'\n",
      " '  56277.189000,\\n'\n",
      " '  79640.190000,\\n'\n",
      " '  47736.957744\\n'\n",
      " ']]')\n",
      "('row_idx 8 param_vals [<pyarrow.lib.Decimal256Array object at 0x111b55d00>\\n'\n",
      " '[\\n'\n",
      " '  17.00,\\n'\n",
      " '  36.00,\\n'\n",
      " '  8.00,\\n'\n",
      " '  28.00,\\n'\n",
      " '  24.00,\\n'\n",
      " '  32.00,\\n'\n",
      " '  38.00,\\n'\n",
      " '  45.00,\\n'\n",
      " '  49.00,\\n'\n",
      " '  27.00\\n'\n",
      " ']]')\n",
      "('row_idx 8 param_vals [<pyarrow.lib.Decimal256Array object at 0x111b29940>\\n'\n",
      " '[\\n'\n",
      " '  24386.67,\\n'\n",
      " '  58958.28,\\n'\n",
      " '  10210.96,\\n'\n",
      " '  31197.88,\\n'\n",
      " '  31329.60,\\n'\n",
      " '  46897.92,\\n'\n",
      " '  58049.18,\\n'\n",
      " '  59869.35,\\n'\n",
      " '  88489.10,\\n'\n",
      " '  47461.68\\n'\n",
      " ']]')\n",
      "('row_idx 8 param_vals [<pyarrow.lib.Decimal256Array object at 0x11117bdc0>\\n'\n",
      " '[\\n'\n",
      " '  23411.2032,\\n'\n",
      " '  53652.0348,\\n'\n",
      " '  9189.8640,\\n'\n",
      " '  28390.0708,\\n'\n",
      " '  28196.6400,\\n'\n",
      " '  43615.0656,\\n'\n",
      " '  58049.1800,\\n'\n",
      " '  56277.1890,\\n'\n",
      " '  79640.1900,\\n'\n",
      " '  44613.9792\\n'\n",
      " ']]')\n",
      "('row_idx 8 param_vals [<pyarrow.lib.Decimal256Array object at 0x11117be20>\\n'\n",
      " '[\\n'\n",
      " '  23879.427264,\\n'\n",
      " '  56871.156888,\\n'\n",
      " '  9373.661280,\\n'\n",
      " '  30093.475048,\\n'\n",
      " '  29324.505600,\\n'\n",
      " '  44487.366912,\\n'\n",
      " '  60951.639000,\\n'\n",
      " '  56277.189000,\\n'\n",
      " '  79640.190000,\\n'\n",
      " '  47736.957744\\n'\n",
      " ']]')\n",
      "('row_idx 9 param_vals [<pyarrow.lib.Decimal256Array object at 0x111b55d00>\\n'\n",
      " '[\\n'\n",
      " '  17.00,\\n'\n",
      " '  36.00,\\n'\n",
      " '  8.00,\\n'\n",
      " '  28.00,\\n'\n",
      " '  24.00,\\n'\n",
      " '  32.00,\\n'\n",
      " '  38.00,\\n'\n",
      " '  45.00,\\n'\n",
      " '  49.00,\\n'\n",
      " '  27.00\\n'\n",
      " ']]')\n",
      "('row_idx 9 param_vals [<pyarrow.lib.Decimal256Array object at 0x111b29940>\\n'\n",
      " '[\\n'\n",
      " '  24386.67,\\n'\n",
      " '  58958.28,\\n'\n",
      " '  10210.96,\\n'\n",
      " '  31197.88,\\n'\n",
      " '  31329.60,\\n'\n",
      " '  46897.92,\\n'\n",
      " '  58049.18,\\n'\n",
      " '  59869.35,\\n'\n",
      " '  88489.10,\\n'\n",
      " '  47461.68\\n'\n",
      " ']]')\n",
      "('row_idx 9 param_vals [<pyarrow.lib.Decimal256Array object at 0x11117bdc0>\\n'\n",
      " '[\\n'\n",
      " '  23411.2032,\\n'\n",
      " '  53652.0348,\\n'\n",
      " '  9189.8640,\\n'\n",
      " '  28390.0708,\\n'\n",
      " '  28196.6400,\\n'\n",
      " '  43615.0656,\\n'\n",
      " '  58049.1800,\\n'\n",
      " '  56277.1890,\\n'\n",
      " '  79640.1900,\\n'\n",
      " '  44613.9792\\n'\n",
      " ']]')\n",
      "('row_idx 9 param_vals [<pyarrow.lib.Decimal256Array object at 0x11117be20>\\n'\n",
      " '[\\n'\n",
      " '  23879.427264,\\n'\n",
      " '  56871.156888,\\n'\n",
      " '  9373.661280,\\n'\n",
      " '  30093.475048,\\n'\n",
      " '  29324.505600,\\n'\n",
      " '  44487.366912,\\n'\n",
      " '  60951.639000,\\n'\n",
      " '  56277.189000,\\n'\n",
      " '  79640.190000,\\n'\n",
      " '  47736.957744\\n'\n",
      " ']]')\n"
     ]
    },
    {
     "ename": "StopIteration",
     "evalue": "",
     "output_type": "error",
     "traceback": [
      "\u001B[0;31m---------------------------------------------------------------------------\u001B[0m",
      "\u001B[0;31mStopIteration\u001B[0m                             Traceback (most recent call last)",
      "Cell \u001B[0;32mIn[336], line 4\u001B[0m\n\u001B[1;32m      2\u001B[0m exec \u001B[38;5;241m=\u001B[39m pplan_builder\u001B[38;5;241m.\u001B[39mbuild(plan,GROUP)\n\u001B[1;32m      3\u001B[0m exec\u001B[38;5;241m.\u001B[39mOpen()\n\u001B[0;32m----> 4\u001B[0m records \u001B[38;5;241m=\u001B[39m \u001B[43mexec\u001B[49m\u001B[38;5;241;43m.\u001B[39;49m\u001B[43mNext\u001B[49m\u001B[43m(\u001B[49m\u001B[43m)\u001B[49m\n\u001B[1;32m      5\u001B[0m pprint(records\u001B[38;5;241m.\u001B[39mto_pandas())\n",
      "Cell \u001B[0;32mIn[333], line 105\u001B[0m, in \u001B[0;36mGroupbyExecutor.Next\u001B[0;34m(self)\u001B[0m\n\u001B[1;32m    103\u001B[0m     \u001B[38;5;28mself\u001B[39m\u001B[38;5;241m.\u001B[39mupdate_hash_table(group_by_hash_vals,records)\n\u001B[1;32m    104\u001B[0m     \u001B[38;5;66;03m# 下一批输入\u001B[39;00m\n\u001B[0;32m--> 105\u001B[0m     records \u001B[38;5;241m=\u001B[39m \u001B[38;5;28;43mself\u001B[39;49m\u001B[38;5;241;43m.\u001B[39;49m\u001B[43mchild\u001B[49m\u001B[38;5;241;43m.\u001B[39;49m\u001B[43mNext\u001B[49m\u001B[43m(\u001B[49m\u001B[43m)\u001B[49m\n\u001B[1;32m    107\u001B[0m \u001B[38;5;66;03m#完成聚合函数的结果\u001B[39;00m\n\u001B[1;32m    108\u001B[0m ret_records \u001B[38;5;241m=\u001B[39m \u001B[38;5;28mself\u001B[39m\u001B[38;5;241m.\u001B[39mend_agg_func_val()\n",
      "Cell \u001B[0;32mIn[331], line 11\u001B[0m, in \u001B[0;36mFilterExecutor.Next\u001B[0;34m(self)\u001B[0m\n\u001B[1;32m     10\u001B[0m \u001B[38;5;28;01mdef\u001B[39;00m \u001B[38;5;21mNext\u001B[39m(\u001B[38;5;28mself\u001B[39m):\n\u001B[0;32m---> 11\u001B[0m     child_records \u001B[38;5;241m=\u001B[39m \u001B[38;5;28;43mself\u001B[39;49m\u001B[38;5;241;43m.\u001B[39;49m\u001B[43mchild\u001B[49m\u001B[38;5;241;43m.\u001B[39;49m\u001B[43mNext\u001B[49m\u001B[43m(\u001B[49m\u001B[43m)\u001B[49m\n\u001B[1;32m     12\u001B[0m     mask \u001B[38;5;241m=\u001B[39m exec_expr(\u001B[38;5;28mself\u001B[39m\u001B[38;5;241m.\u001B[39mfilter,child_records)\n\u001B[1;32m     13\u001B[0m     \u001B[38;5;28;01mreturn\u001B[39;00m child_records\u001B[38;5;241m.\u001B[39mfilter(mask)\n",
      "Cell \u001B[0;32mIn[328], line 27\u001B[0m, in \u001B[0;36mCsvTableScan.Next\u001B[0;34m(self)\u001B[0m\n\u001B[1;32m     26\u001B[0m \u001B[38;5;28;01mdef\u001B[39;00m \u001B[38;5;21mNext\u001B[39m(\u001B[38;5;28mself\u001B[39m):\n\u001B[0;32m---> 27\u001B[0m     chunk \u001B[38;5;241m=\u001B[39m \u001B[38;5;28;43mself\u001B[39;49m\u001B[38;5;241;43m.\u001B[39;49m\u001B[43mreader\u001B[49m\u001B[38;5;241;43m.\u001B[39;49m\u001B[43mread_next_batch\u001B[49m\u001B[43m(\u001B[49m\u001B[43m)\u001B[49m\n\u001B[1;32m     28\u001B[0m     needed_arrays \u001B[38;5;241m=\u001B[39m []\n\u001B[1;32m     29\u001B[0m     \u001B[38;5;28;01mfor\u001B[39;00m col_idx \u001B[38;5;129;01min\u001B[39;00m \u001B[38;5;28mrange\u001B[39m(chunk\u001B[38;5;241m.\u001B[39mnum_columns):\n",
      "File \u001B[0;32m~/.local/share/virtualenvs/sqlx-HhZqvuS5/lib/python3.9/site-packages/pyarrow/ipc.pxi:696\u001B[0m, in \u001B[0;36mpyarrow.lib.RecordBatchReader.read_next_batch\u001B[0;34m()\u001B[0m\n",
      "\u001B[0;31mStopIteration\u001B[0m: "
     ]
    }
   ],
   "source": [
    "pplan_builder = PhysicalPlanBuilder()\n",
    "exec = pplan_builder.build(plan,GROUP)\n",
    "exec.Open()\n",
    "records = exec.Next()\n",
    "pprint(records.to_pandas())\n"
   ],
   "metadata": {
    "collapsed": false,
    "pycharm": {
     "name": "#%%\n"
    }
   }
  },
  {
   "cell_type": "markdown",
   "source": [
    "/*### 执行filter方法1*/"
   ],
   "metadata": {
    "collapsed": false
   }
  },
  {
   "cell_type": "code",
   "execution_count": null,
   "outputs": [],
   "source": [
    "# date1 = datetime.strptime('1998-12-01',\"%Y-%m-%d\")\n",
    "# interval1 = timedelta(1500)\n",
    "# date2 = date1 - interval1\n",
    "# date2_arr = arrow.array([date2]*records.num_rows,arrow.date32())\n",
    "# pprint(date2_arr)\n",
    "# # date1_arr = arrow.array([date1]*records.num_rows,arrow.date32())\n",
    "# # interval_arr = arrow.array([112]*records.num_rows,arrow.int32())\n",
    "# # # arrow 没有时间相减的函数\n",
    "# # date3_arr = compute.subtract(date1_arr,interval_arr)\n",
    "#\n",
    "# #cast1 = compute.cast()\n",
    "# mask1 = compute.less_equal(records.column(\"l_shipdate\"),date2_arr)\n",
    "# pprint(mask1.to_pandas())\n",
    "# res1 = records.filter(mask1)\n",
    "# pprint(res1.to_pandas())"
   ],
   "metadata": {
    "collapsed": false,
    "pycharm": {
     "name": "#%%\n"
    }
   }
  },
  {
   "cell_type": "markdown",
   "source": [
    "/*### 执行filter方法2*/"
   ],
   "metadata": {
    "collapsed": false
   }
  },
  {
   "cell_type": "code",
   "execution_count": null,
   "outputs": [],
   "source": [
    "# table1 = arrow.Table.from_batches([records])\n",
    "# le1 = compute.less_equal(compute.field(\"l_orderkey\"),1)\n",
    "# res2 = table1.filter(le1)\n",
    "# pprint(res2.to_pandas())\n"
   ],
   "metadata": {
    "collapsed": false,
    "pycharm": {
     "name": "#%%\n"
    }
   }
  },
  {
   "cell_type": "code",
   "execution_count": null,
   "outputs": [],
   "source": [
    "exec.Close()"
   ],
   "metadata": {
    "collapsed": false,
    "pycharm": {
     "name": "#%%\n"
    }
   }
  }
 ],
 "metadata": {
  "kernelspec": {
   "display_name": "Python 3",
   "language": "python",
   "name": "python3"
  },
  "language_info": {
   "codemirror_mode": {
    "name": "ipython",
    "version": 2
   },
   "file_extension": ".py",
   "mimetype": "text/x-python",
   "name": "python",
   "nbconvert_exporter": "python",
   "pygments_lexer": "ipython2",
   "version": "2.7.6"
  }
 },
 "nbformat": 4,
 "nbformat_minor": 0
}